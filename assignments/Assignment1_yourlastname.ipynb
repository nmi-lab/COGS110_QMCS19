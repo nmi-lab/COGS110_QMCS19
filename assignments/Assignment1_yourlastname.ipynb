{
 "cells": [
  {
   "cell_type": "markdown",
   "metadata": {},
   "source": [
    "# Assignment 1: Python Tutorial and Sequential Sampling Models"
   ]
  },
  {
   "cell_type": "markdown",
   "metadata": {},
   "source": [
    "Instructions:\n",
    "0. Rename this file using your last name, i.e. \"Assignment1_neftci.ipynb\" (right click on the tab, then click rename)\n",
    "1. Please answer questions __1__ to __13__ by writing your code where indicated\n",
    "2. Upload to <a href='https://canvas.eee.uci.edu/courses/16991' >Canvas</a> by Thursday 18 2019."
   ]
  },
  {
   "cell_type": "markdown",
   "metadata": {},
   "source": [
    "<hr>"
   ]
  },
  {
   "cell_type": "markdown",
   "metadata": {},
   "source": [
    "## Basic Python and Numpy Functionality"
   ]
  },
  {
   "cell_type": "markdown",
   "metadata": {},
   "source": [
    "First Load the libraries"
   ]
  },
  {
   "cell_type": "code",
   "execution_count": 1,
   "metadata": {},
   "outputs": [],
   "source": [
    "import numpy as np\n",
    "from matplotlib import pyplot as plt"
   ]
  },
  {
   "cell_type": "markdown",
   "metadata": {},
   "source": [
    "__1.__ Create a list of integers from 0 to 100 (use the range function)"
   ]
  },
  {
   "cell_type": "code",
   "execution_count": 7,
   "metadata": {},
   "outputs": [],
   "source": [
    "#Write your code here"
   ]
  },
  {
   "cell_type": "markdown",
   "metadata": {},
   "source": [
    "__2.__ Create an array of integers from 0 to 100, using numpy (don't forget to __import__ numpy, i.e. run the first line)"
   ]
  },
  {
   "cell_type": "code",
   "execution_count": 8,
   "metadata": {},
   "outputs": [],
   "source": [
    "#Write your code here"
   ]
  },
  {
   "cell_type": "markdown",
   "metadata": {},
   "source": [
    "__3.__ Create an array of 1000 random Gaussian distributed numbers, with variables `mu` and `std` given below. Use `arr_gaussian` as the variable name"
   ]
  },
  {
   "cell_type": "code",
   "execution_count": 9,
   "metadata": {},
   "outputs": [],
   "source": [
    "mu = .5\n",
    "std = 1.0\n",
    "#Write your code here\n",
    "arr_gaussian = ..."
   ]
  },
  {
   "cell_type": "markdown",
   "metadata": {},
   "source": [
    "Find the indices of all the numbers in `arr_gaussian` that are larger than 0"
   ]
  },
  {
   "cell_type": "code",
   "execution_count": 10,
   "metadata": {},
   "outputs": [],
   "source": [
    "arr_gaussian_lt0 = ... #Write your code here"
   ]
  },
  {
   "cell_type": "markdown",
   "metadata": {},
   "source": [
    "Find out the proportion of elements in `arr_gaussian` that are larger than zero. Use the `len()` function to find out how many elements there are in an array or list."
   ]
  },
  {
   "cell_type": "code",
   "execution_count": 11,
   "metadata": {},
   "outputs": [],
   "source": [
    "arr_gaussian_lt0_ratio = ..."
   ]
  },
  {
   "cell_type": "markdown",
   "metadata": {},
   "source": [
    "__4.__ Plot a histogram of the random numbers generated above, using `plt.hist()`."
   ]
  },
  {
   "cell_type": "code",
   "execution_count": 12,
   "metadata": {},
   "outputs": [],
   "source": [
    "#Write your code here"
   ]
  },
  {
   "cell_type": "markdown",
   "metadata": {},
   "source": [
    "__5.__ Calculate the sample average and standard deviation of the random numbers generated under 3. Note that these should be close to `mu` and `std` but not exactly equal to them due to finite sample size"
   ]
  },
  {
   "cell_type": "code",
   "execution_count": 13,
   "metadata": {},
   "outputs": [],
   "source": [
    "#Write your code here"
   ]
  },
  {
   "cell_type": "markdown",
   "metadata": {},
   "source": [
    "__6.__ Create a function called `sample_mean_std` that takes an array of numbers, and returns the sample average and standard deviation"
   ]
  },
  {
   "cell_type": "code",
   "execution_count": 14,
   "metadata": {},
   "outputs": [],
   "source": [
    "def sample_mean_std(arr):\n",
    "    #Write your code here\n",
    "    return #Write your code here (variables to return)\n",
    "\n",
    "r_arr = np.random.random([100])\n",
    "sample_mean_std(r_arr)"
   ]
  },
  {
   "cell_type": "markdown",
   "metadata": {},
   "source": [
    "__7.__ Return the number of elements in __arr_gaussian__ that are larger than __std__ . Hint: with boolean variables, True and False are equivalent to 1 and 0. For exampe:"
   ]
  },
  {
   "cell_type": "code",
   "execution_count": 15,
   "metadata": {},
   "outputs": [
    {
     "data": {
      "text/plain": [
       "3"
      ]
     },
     "execution_count": 15,
     "metadata": {},
     "output_type": "execute_result"
    }
   ],
   "source": [
    "np.sum(np.array([True,True,False,True]))"
   ]
  },
  {
   "cell_type": "code",
   "execution_count": 16,
   "metadata": {},
   "outputs": [],
   "source": [
    "#Write your code here"
   ]
  },
  {
   "cell_type": "markdown",
   "metadata": {},
   "source": [
    "## Sequential Sampling Model: Comprehension"
   ]
  },
  {
   "cell_type": "markdown",
   "metadata": {},
   "source": [
    "__8.__ Assume a sequential sampling model as seen in class with boundaries -10, 10. (crossing -10 leads to \"right\", crossing 10 leads to \"left\"). If the threshold is not crossed after 10 steps, the model chooses the boundary closest to the evidence. Assume that each trial starts from zero, i.e. $X_0 = 0$ and that the following \"nudges\" during the trial:"
   ]
  },
  {
   "cell_type": "markdown",
   "metadata": {},
   "source": [
    "$$\n",
    "X_1 = 2, X_2=-3, X_3=4, X_4=2, X_5 =1, X_6 =-1, X_7=2, X_8=4, X_9=-3, X_{10} = 5\n",
    "$$\n",
    "\n",
    "- Does the model respond left or right?\n",
    "- What is the response time i.e. the index at which the boundary is crossed the first time?"
   ]
  },
  {
   "cell_type": "markdown",
   "metadata": {},
   "source": [
    "*Write your answers here*"
   ]
  },
  {
   "cell_type": "markdown",
   "metadata": {},
   "source": [
    "Now assume the starting point was $X_0=-9$\n",
    "- Does the model respond left or right?\n",
    "- What is the response time?"
   ]
  },
  {
   "cell_type": "markdown",
   "metadata": {},
   "source": [
    "*Write your answers here*"
   ]
  },
  {
   "cell_type": "markdown",
   "metadata": {},
   "source": [
    "Now assume that -2 is added to each nudge (Use $X_0=0$)\n",
    "- Does the model respond left or right?\n",
    "- What is the response time?"
   ]
  },
  {
   "cell_type": "markdown",
   "metadata": {},
   "source": [
    "*Write your answers here*"
   ]
  },
  {
   "cell_type": "markdown",
   "metadata": {},
   "source": [
    "## Sequential Sampling Model: Programming"
   ]
  },
  {
   "cell_type": "markdown",
   "metadata": {},
   "source": [
    "__9.__ Compute the cumulative sum of arr_gaussian (using the np.cumsum function, see Python_intro_part2.ipynb). Store this in a variable named `z`"
   ]
  },
  {
   "cell_type": "code",
   "execution_count": 17,
   "metadata": {},
   "outputs": [],
   "source": [
    "z = ... #Write your code here"
   ]
  },
  {
   "cell_type": "markdown",
   "metadata": {},
   "source": [
    "__10.__ find the index of the first time `z` crosses 3, call this index `rt` (the question is very similar to 3 above)"
   ]
  },
  {
   "cell_type": "code",
   "execution_count": 18,
   "metadata": {},
   "outputs": [],
   "source": [
    "rt = ... #Write your code here"
   ]
  },
  {
   "cell_type": "markdown",
   "metadata": {},
   "source": [
    "__11.__ Set all the elements in z following rt to 3"
   ]
  },
  {
   "cell_type": "code",
   "execution_count": 19,
   "metadata": {},
   "outputs": [],
   "source": [
    "#Write your code here"
   ]
  },
  {
   "cell_type": "markdown",
   "metadata": {},
   "source": [
    "__12.__ Do a line plot of z (see Python_intro_part3.ipynb). This plot should seem similar to one trajectory in the Sequential Sampling Model."
   ]
  },
  {
   "cell_type": "code",
   "execution_count": 20,
   "metadata": {},
   "outputs": [],
   "source": [
    "#Write your code here"
   ]
  },
  {
   "cell_type": "markdown",
   "metadata": {},
   "source": [
    "__13.__ Create 500 such trajectories (trials), and store each of them in a variable named `z_hist` as shown below. Use the following `for` loop. At the end, plot all trials (plt.plot)"
   ]
  },
  {
   "cell_type": "code",
   "execution_count": 21,
   "metadata": {},
   "outputs": [],
   "source": [
    "n_trials = 500\n",
    "z_hist = np.zeros([1000, n_trials])\n",
    "for n in range(n_trials):\n",
    "    #Write your code below\n",
    "    z_hist[:,n]\n",
    "\n",
    "#plt.plot(z_hist)"
   ]
  },
  {
   "cell_type": "markdown",
   "metadata": {},
   "source": [
    "<hr>"
   ]
  },
  {
   "cell_type": "markdown",
   "metadata": {},
   "source": [
    "__Congratulations! you've built you're first cognitive model in this class! The following points are optional and will allow you to reproduce some of the figures in lecture01.pdf__"
   ]
  },
  {
   "cell_type": "markdown",
   "metadata": {},
   "source": [
    "## Sequential Sampling Model (Advanced)"
   ]
  },
  {
   "cell_type": "markdown",
   "metadata": {},
   "source": [
    "__14.__ __Optional:__ modify the for loop above to compute the reaction times for each trial. Create a histogram of the reaction times."
   ]
  },
  {
   "cell_type": "code",
   "execution_count": 22,
   "metadata": {},
   "outputs": [],
   "source": [
    "#Write your code below"
   ]
  },
  {
   "cell_type": "markdown",
   "metadata": {},
   "source": [
    "__15.__ __Optional (harder):__ Histogram the reaction times for correct and incorrect trials separately. For this you'll have to store the response for each trial and use the reponses to index the reaction times for correct and incorrect trials."
   ]
  },
  {
   "cell_type": "code",
   "execution_count": 23,
   "metadata": {},
   "outputs": [],
   "source": [
    "#Write your code below"
   ]
  }
 ],
 "metadata": {
  "kernelspec": {
   "display_name": "Python 3",
   "language": "python",
   "name": "python3"
  },
  "language_info": {
   "codemirror_mode": {
    "name": "ipython",
    "version": 3
   },
   "file_extension": ".py",
   "mimetype": "text/x-python",
   "name": "python",
   "nbconvert_exporter": "python",
   "pygments_lexer": "ipython3",
   "version": "3.7.0"
  }
 },
 "nbformat": 4,
 "nbformat_minor": 2
}
