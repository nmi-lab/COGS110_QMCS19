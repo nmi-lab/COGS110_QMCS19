{
 "cells": [
  {
   "cell_type": "markdown",
   "metadata": {},
   "source": [
    "# Assignment 1: Python Tutorial and Sequential Sampling Models"
   ]
  },
  {
   "cell_type": "markdown",
   "metadata": {},
   "source": [
    "Instructions:\n",
    "0. Rename this file using your last name, i.e. \"Assignment1_neftci.ipynb\" (right click on the tab, then click rename)\n",
    "1. Please answer questions __1__ to __13__ by writing your code where indicated\n",
    "2. Upload to <a href='https://canvas.eee.uci.edu/courses/16991' >Canvas</a> by Thursday 18 2019."
   ]
  },
  {
   "cell_type": "markdown",
   "metadata": {},
   "source": [
    "<hr>"
   ]
  },
  {
   "cell_type": "markdown",
   "metadata": {},
   "source": [
    "## Basic Python and Numpy Functionality"
   ]
  },
  {
   "cell_type": "markdown",
   "metadata": {},
   "source": [
    "First Load the libraries"
   ]
  },
  {
   "cell_type": "code",
   "execution_count": 2,
   "metadata": {},
   "outputs": [],
   "source": [
    "import numpy as np\n",
    "from matplotlib import pyplot as plt"
   ]
  },
  {
   "cell_type": "markdown",
   "metadata": {},
   "source": [
    "__1.__ Create a list of integers from 0 to 100 (use the range function)"
   ]
  },
  {
   "cell_type": "code",
   "execution_count": 3,
   "metadata": {},
   "outputs": [],
   "source": [
    "mylist = list(range(100));"
   ]
  },
  {
   "cell_type": "markdown",
   "metadata": {},
   "source": [
    "__2.__ Create an array of integers from 0 to 100, using numpy (don't forget to __import__ numpy, i.e. run the first line)"
   ]
  },
  {
   "cell_type": "code",
   "execution_count": 4,
   "metadata": {},
   "outputs": [
    {
     "data": {
      "text/plain": [
       "array([ 0,  1,  2,  3,  4,  5,  6,  7,  8,  9, 10, 11, 12, 13, 14, 15, 16,\n",
       "       17, 18, 19, 20, 21, 22, 23, 24, 25, 26, 27, 28, 29, 30, 31, 32, 33,\n",
       "       34, 35, 36, 37, 38, 39, 40, 41, 42, 43, 44, 45, 46, 47, 48, 49, 50,\n",
       "       51, 52, 53, 54, 55, 56, 57, 58, 59, 60, 61, 62, 63, 64, 65, 66, 67,\n",
       "       68, 69, 70, 71, 72, 73, 74, 75, 76, 77, 78, 79, 80, 81, 82, 83, 84,\n",
       "       85, 86, 87, 88, 89, 90, 91, 92, 93, 94, 95, 96, 97, 98, 99])"
      ]
     },
     "execution_count": 4,
     "metadata": {},
     "output_type": "execute_result"
    }
   ],
   "source": [
    "np.array(mylist)"
   ]
  },
  {
   "cell_type": "markdown",
   "metadata": {},
   "source": [
    "or"
   ]
  },
  {
   "cell_type": "code",
   "execution_count": 5,
   "metadata": {},
   "outputs": [
    {
     "data": {
      "text/plain": [
       "array([ 0,  1,  2,  3,  4,  5,  6,  7,  8,  9, 10, 11, 12, 13, 14, 15, 16,\n",
       "       17, 18, 19, 20, 21, 22, 23, 24, 25, 26, 27, 28, 29, 30, 31, 32, 33,\n",
       "       34, 35, 36, 37, 38, 39, 40, 41, 42, 43, 44, 45, 46, 47, 48, 49, 50,\n",
       "       51, 52, 53, 54, 55, 56, 57, 58, 59, 60, 61, 62, 63, 64, 65, 66, 67,\n",
       "       68, 69, 70, 71, 72, 73, 74, 75, 76, 77, 78, 79, 80, 81, 82, 83, 84,\n",
       "       85, 86, 87, 88, 89, 90, 91, 92, 93, 94, 95, 96, 97, 98, 99])"
      ]
     },
     "execution_count": 5,
     "metadata": {},
     "output_type": "execute_result"
    }
   ],
   "source": [
    "np.arange(100)"
   ]
  },
  {
   "cell_type": "markdown",
   "metadata": {},
   "source": [
    "__3.__ Create an array of 1000 random Gaussian distributed numbers, with variables `mu` and `std` given below. Use `arr_gaussian` as the variable name"
   ]
  },
  {
   "cell_type": "code",
   "execution_count": 6,
   "metadata": {},
   "outputs": [],
   "source": [
    "mu = .5\n",
    "std = 1.0\n",
    "#Write your code here\n",
    "arr_gaussian = np.random.normal(mu,std, size=100)"
   ]
  },
  {
   "cell_type": "markdown",
   "metadata": {},
   "source": [
    "Find the indices of all the numbers in `arr_gaussian` that are larger than 0"
   ]
  },
  {
   "cell_type": "code",
   "execution_count": 7,
   "metadata": {},
   "outputs": [],
   "source": [
    "arr_gaussian_lt0 = np.where(arr_gaussian>0)[0]"
   ]
  },
  {
   "cell_type": "markdown",
   "metadata": {},
   "source": [
    "Find out the proportion of elements in `arr_gaussian` that are larger than zero. Use the `len()` function to find out how many elements there are in an array or list."
   ]
  },
  {
   "cell_type": "code",
   "execution_count": 8,
   "metadata": {},
   "outputs": [
    {
     "data": {
      "text/plain": [
       "0.073"
      ]
     },
     "execution_count": 8,
     "metadata": {},
     "output_type": "execute_result"
    }
   ],
   "source": [
    "arr_gaussian_lt0_ratio = len(arr_gaussian_lt0)/1000\n",
    "arr_gaussian_lt0_ratio"
   ]
  },
  {
   "cell_type": "markdown",
   "metadata": {},
   "source": [
    "__4.__ Plot a histogram of the random numbers generated above, using `plt.hist()`."
   ]
  },
  {
   "cell_type": "code",
   "execution_count": 9,
   "metadata": {},
   "outputs": [
    {
     "data": {
      "text/plain": [
       "(array([ 5.,  2., 10., 10., 18., 13., 21.,  8.,  7.,  6.]),\n",
       " array([-1.62126035, -1.20851598, -0.79577161, -0.38302724,  0.02971713,\n",
       "         0.44246151,  0.85520588,  1.26795025,  1.68069462,  2.09343899,\n",
       "         2.50618337]),\n",
       " <a list of 10 Patch objects>)"
      ]
     },
     "execution_count": 9,
     "metadata": {},
     "output_type": "execute_result"
    },
    {
     "data": {
      "image/png": "[encoded data removed]",
      "text/plain": [
       "<Figure size 432x288 with 1 Axes>"
      ]
     },
     "metadata": {
      "needs_background": "light"
     },
     "output_type": "display_data"
    }
   ],
   "source": [
    "plt.hist(arr_gaussian)#Write your code here"
   ]
  },
  {
   "cell_type": "markdown",
   "metadata": {},
   "source": [
    "__5.__ Calculate the sample average and standard deviation of the random numbers generated under 3. Note that these should be close to `mu` and `std` but not exactly equal to them due to finite sample size"
   ]
  },
  {
   "cell_type": "code",
   "execution_count": 10,
   "metadata": {},
   "outputs": [
    {
     "data": {
      "text/plain": [
       "0.5530306273946514"
      ]
     },
     "execution_count": 10,
     "metadata": {},
     "output_type": "execute_result"
    }
   ],
   "source": [
    "np.mean(arr_gaussian)"
   ]
  },
  {
   "cell_type": "code",
   "execution_count": 11,
   "metadata": {},
   "outputs": [
    {
     "data": {
      "text/plain": [
       "0.9336771185422322"
      ]
     },
     "execution_count": 11,
     "metadata": {},
     "output_type": "execute_result"
    }
   ],
   "source": [
    "np.std(arr_gaussian)"
   ]
  },
  {
   "cell_type": "markdown",
   "metadata": {},
   "source": [
    "__6.__ Create a function called `sample_mean_std` that takes an array of numbers, and returns the sample average and standard deviation"
   ]
  },
  {
   "cell_type": "code",
   "execution_count": 12,
   "metadata": {},
   "outputs": [],
   "source": [
    "def sample_mean_std(arr):\n",
    "    #Write your code here\n",
    "    return #Write your code here (variables to return)\n",
    "\n",
    "r_arr = np.random.random([100])\n",
    "sample_mean_std(r_arr)"
   ]
  },
  {
   "cell_type": "markdown",
   "metadata": {},
   "source": [
    "__7.__ Return the number of elements in __arr_gaussian__ that are larger than __std__ . Hint: with boolean variables, True and False are equivalent to 1 and 0. For exampe:"
   ]
  },
  {
   "cell_type": "code",
   "execution_count": 13,
   "metadata": {},
   "outputs": [
    {
     "data": {
      "text/plain": [
       "3"
      ]
     },
     "execution_count": 13,
     "metadata": {},
     "output_type": "execute_result"
    }
   ],
   "source": [
    "np.sum(np.array([True,True,False,True]))"
   ]
  },
  {
   "cell_type": "code",
   "execution_count": 14,
   "metadata": {},
   "outputs": [],
   "source": [
    "#Write your code here"
   ]
  },
  {
   "cell_type": "markdown",
   "metadata": {},
   "source": [
    "## Sequential Sampling Model: Comprehension"
   ]
  },
  {
   "cell_type": "markdown",
   "metadata": {},
   "source": [
    "__8.__ Assume a sequential sampling model as seen in class with boundaries -10, 10. (crossing -10 leads to \"right\", crossing 10 leads to \"left\"). If the threshold is not crossed after 10 steps, the model chooses the boundary closest to the evidence. Assume that each trial starts from zero, i.e. $X_0 = 0$ and that the following \"nudges\" during the trial:\n",
    "$$\n",
    "X_1 = 2, X_2=-3, X_3=4, X_4=2, X_5 =1, X_6 =-1, X_7=2, X_8=4, X_9=-3, X_{10} = 5\n",
    "$$\n",
    "\n",
    "- Does the model respond left or right?\n",
    "- What is the response time i.e. the index at which the boundary is crossed the first time?"
   ]
  },
  {
   "cell_type": "markdown",
   "metadata": {},
   "source": [
    "Response = Left\n",
    "RT = 8"
   ]
  },
  {
   "cell_type": "code",
   "execution_count": 15,
   "metadata": {},
   "outputs": [
    {
     "data": {
      "text/plain": [
       "array([ 2, -1,  3,  5,  6,  5,  7, 11,  8, 13])"
      ]
     },
     "execution_count": 15,
     "metadata": {},
     "output_type": "execute_result"
    }
   ],
   "source": [
    "Xt = np.array([2,-3,4,2,1,-1,2,4,-3,5])\n",
    "Zt = np.cumsum(Xt)\n",
    "Zt"
   ]
  },
  {
   "cell_type": "markdown",
   "metadata": {},
   "source": [
    "Now assume the starting point was $X_0=-9$\n",
    "- Does the model respond left or right?\n",
    "- What is the response time?"
   ]
  },
  {
   "cell_type": "markdown",
   "metadata": {},
   "source": [
    "Response = Right\n",
    "RT = 2"
   ]
  },
  {
   "cell_type": "code",
   "execution_count": 16,
   "metadata": {},
   "outputs": [
    {
     "data": {
      "text/plain": [
       "array([ -9,  -7, -10,  -6,  -4,  -3,  -4,  -2,   2,  -1,   4])"
      ]
     },
     "execution_count": 16,
     "metadata": {},
     "output_type": "execute_result"
    }
   ],
   "source": [
    "Xt = np.array([-9, 2,-3,4,2,1,-1,2,4,-3,5])\n",
    "Zt = np.cumsum(Xt)\n",
    "Zt"
   ]
  },
  {
   "cell_type": "markdown",
   "metadata": {},
   "source": [
    "Now assume that -2 is added to each nudge (Use $X_0=0$)\n",
    "- Does the model respond left or right?\n",
    "- What is the response time?"
   ]
  },
  {
   "cell_type": "code",
   "execution_count": 17,
   "metadata": {},
   "outputs": [
    {
     "data": {
      "text/plain": [
       "array([  0,  -5,  -3,  -3,  -4,  -7,  -7,  -5, -10,  -7])"
      ]
     },
     "execution_count": 17,
     "metadata": {},
     "output_type": "execute_result"
    }
   ],
   "source": [
    "Xt = np.array([2,-3,4,2,1,-1,2,4,-3,5])-2\n",
    "Zt = np.cumsum(Xt)\n",
    "Zt"
   ]
  },
  {
   "cell_type": "markdown",
   "metadata": {},
   "source": [
    "Response = Right\n",
    "RT = 9"
   ]
  },
  {
   "cell_type": "markdown",
   "metadata": {},
   "source": [
    "## Sequential Sampling Model: Programming"
   ]
  },
  {
   "cell_type": "markdown",
   "metadata": {},
   "source": [
    "__9.__ Compute the cumulative sum of arr_gaussian (using the np.cumsum function, see Python_intro_part2.ipynb). Store this in a variable named `z`"
   ]
  },
  {
   "cell_type": "code",
   "execution_count": 18,
   "metadata": {},
   "outputs": [
    {
     "data": {
      "text/plain": [
       "array([ 0.13114303,  2.23691341,  2.69444571,  4.48026326,  4.66244656,\n",
       "        7.02517018,  7.77748259,  9.2201104 ,  9.38049863,  8.99401374,\n",
       "        9.9447946 , 10.60519998, 11.73906151, 11.24167363, 12.12797124,\n",
       "       12.40334068, 13.31151038, 14.51665047, 14.43458576, 14.22221258,\n",
       "       14.21745231, 16.07268338, 17.26445295, 15.8397727 , 16.31690967,\n",
       "       16.66962487, 17.81930558, 18.1848997 , 19.17823453, 20.38086806,\n",
       "       20.54072353, 20.60043869, 20.98962829, 21.73062932, 23.96093172,\n",
       "       25.64454264, 27.39694846, 26.63268511, 25.47961432, 24.02164971,\n",
       "       23.30405   , 24.43531543, 26.71494543, 25.09368508, 25.34657731,\n",
       "       25.92834091, 24.62896657, 26.09210286, 25.84396085, 27.35455087,\n",
       "       27.15176157, 27.23940357, 26.66004067, 27.03903268, 28.00456134,\n",
       "       28.53069289, 29.62378007, 29.8887344 , 31.35392786, 33.86011123,\n",
       "       36.32280362, 35.49725135, 35.53521115, 35.92764286, 36.4985583 ,\n",
       "       38.27532092, 37.73523797, 38.32546984, 37.91029677, 38.78405476,\n",
       "       40.21172653, 40.08975261, 40.94997495, 40.8180651 , 41.60174208,\n",
       "       42.6554276 , 43.22170114, 42.5322212 , 43.48614558, 44.56203043,\n",
       "       45.41372308, 44.7543118 , 44.58800148, 44.82997195, 43.37599482,\n",
       "       43.50629165, 44.85491464, 44.51987576, 44.87645912, 46.28392102,\n",
       "       47.34948189, 48.77968046, 50.54144778, 50.28549785, 51.44176748,\n",
       "       53.39274876, 53.96127446, 55.02515671, 54.37688819, 55.30306274])"
      ]
     },
     "execution_count": 18,
     "metadata": {},
     "output_type": "execute_result"
    }
   ],
   "source": [
    "z = np.cumsum([arr_gaussian]) #Write your code here\n",
    "z"
   ]
  },
  {
   "cell_type": "markdown",
   "metadata": {},
   "source": [
    "__10.__ find the index of the first time `z` crosses 3, call this index `rt` (the question is very similar to 3 above)"
   ]
  },
  {
   "cell_type": "code",
   "execution_count": 19,
   "metadata": {},
   "outputs": [
    {
     "data": {
      "text/plain": [
       "3"
      ]
     },
     "execution_count": 19,
     "metadata": {},
     "output_type": "execute_result"
    }
   ],
   "source": [
    "rt = np.where(z>3)[0]\n",
    "rt[0]"
   ]
  },
  {
   "cell_type": "markdown",
   "metadata": {},
   "source": [
    "__11.__ Set all the elements in z following rt to 3"
   ]
  },
  {
   "cell_type": "code",
   "execution_count": 20,
   "metadata": {},
   "outputs": [
    {
     "data": {
      "text/plain": [
       "array([0.13114303, 2.23691341, 2.69444571, 3.        , 3.        ,\n",
       "       3.        , 3.        , 3.        , 3.        , 3.        ,\n",
       "       3.        , 3.        , 3.        , 3.        , 3.        ,\n",
       "       3.        , 3.        , 3.        , 3.        , 3.        ,\n",
       "       3.        , 3.        , 3.        , 3.        , 3.        ,\n",
       "       3.        , 3.        , 3.        , 3.        , 3.        ,\n",
       "       3.        , 3.        , 3.        , 3.        , 3.        ,\n",
       "       3.        , 3.        , 3.        , 3.        , 3.        ,\n",
       "       3.        , 3.        , 3.        , 3.        , 3.        ,\n",
       "       3.        , 3.        , 3.        , 3.        , 3.        ,\n",
       "       3.        , 3.        , 3.        , 3.        , 3.        ,\n",
       "       3.        , 3.        , 3.        , 3.        , 3.        ,\n",
       "       3.        , 3.        , 3.        , 3.        , 3.        ,\n",
       "       3.        , 3.        , 3.        , 3.        , 3.        ,\n",
       "       3.        , 3.        , 3.        , 3.        , 3.        ,\n",
       "       3.        , 3.        , 3.        , 3.        , 3.        ,\n",
       "       3.        , 3.        , 3.        , 3.        , 3.        ,\n",
       "       3.        , 3.        , 3.        , 3.        , 3.        ,\n",
       "       3.        , 3.        , 3.        , 3.        , 3.        ,\n",
       "       3.        , 3.        , 3.        , 3.        , 3.        ])"
      ]
     },
     "execution_count": 20,
     "metadata": {},
     "output_type": "execute_result"
    }
   ],
   "source": [
    "z[rt[0]:] = 3\n",
    "z"
   ]
  },
  {
   "cell_type": "markdown",
   "metadata": {},
   "source": [
    "__12.__ Do a line plot of z (see Python_intro_part3.ipynb). This plot should seem similar to one trajectory in the Sequential Sampling Model."
   ]
  },
  {
   "cell_type": "code",
   "execution_count": 21,
   "metadata": {},
   "outputs": [
    {
     "data": {
      "text/plain": [
       "[<matplotlib.lines.Line2D at 0x7f6043711588>]"
      ]
     },
     "execution_count": 21,
     "metadata": {},
     "output_type": "execute_result"
    },
    {
     "data": {
      "image/png": "[encoded data removed]",
      "text/plain": [
       "<Figure size 432x288 with 1 Axes>"
      ]
     },
     "metadata": {
      "needs_background": "light"
     },
     "output_type": "display_data"
    }
   ],
   "source": [
    "plt.plot(z)"
   ]
  },
  {
   "cell_type": "markdown",
   "metadata": {},
   "source": [
    "__13.__ Create 500 such trajectories (trials), and store each of them in a variable named `z_hist` as shown below. Use the following `for` loop. At the end, plot all trials (plt.plot). Create a new arr_gaussian at each step."
   ]
  },
  {
   "cell_type": "code",
   "execution_count": 22,
   "metadata": {},
   "outputs": [
    {
     "data": {
      "image/png": "[encoded data removed]",
      "text/plain": [
       "<Figure size 432x288 with 1 Axes>"
      ]
     },
     "metadata": {
      "needs_background": "light"
     },
     "output_type": "display_data"
    }
   ],
   "source": [
    "mu = 1\n",
    "std =.5\n",
    "n_trials = 500\n",
    "z_hist = np.zeros([1000, n_trials])\n",
    "for n in range(n_trials):\n",
    "    arr_gaussian = np.random.normal(mu,std,size=1000)\n",
    "    z = np.cumsum([arr_gaussian])\n",
    "    rt = np.where(z>3)[0][0]\n",
    "    z[rt:] = 3\n",
    "    z_hist[:,n] = z\n",
    "plt.plot(z_hist);"
   ]
  },
  {
   "cell_type": "markdown",
   "metadata": {},
   "source": [
    "<hr>"
   ]
  },
  {
   "cell_type": "markdown",
   "metadata": {},
   "source": [
    "__Congratulations! you've built you're first cognitive model in this class! The following points are optional and will allow you to reproduce some of the figures in lecture01.pdf__"
   ]
  },
  {
   "cell_type": "markdown",
   "metadata": {},
   "source": [
    "## Sequential Sampling Model (Advanced)"
   ]
  },
  {
   "cell_type": "markdown",
   "metadata": {},
   "source": [
    "__14.__ __Optional:__ modify the for loop above to compute the reaction times for each trial. Create a histogram of the reaction times."
   ]
  },
  {
   "cell_type": "code",
   "execution_count": 23,
   "metadata": {},
   "outputs": [
    {
     "data": {
      "image/png": "[encoded data removed]",
      "text/plain": [
       "<Figure size 432x288 with 1 Axes>"
      ]
     },
     "metadata": {
      "needs_background": "light"
     },
     "output_type": "display_data"
    },
    {
     "data": {
      "image/png": "[encoded data removed]",
      "text/plain": [
       "<Figure size 432x288 with 1 Axes>"
      ]
     },
     "metadata": {
      "needs_background": "light"
     },
     "output_type": "display_data"
    }
   ],
   "source": [
    "mu = .02\n",
    "std =.25\n",
    "n_trials = 500\n",
    "z_hist = np.zeros([1000, n_trials])\n",
    "rt_hist = np.zeros([n_trials])\n",
    "for n in range(n_trials):\n",
    "    arr_gaussian = np.random.normal(mu,std,size=1000)\n",
    "    z = np.cumsum([arr_gaussian])\n",
    "    rtpos = np.where(z>3)[0]\n",
    "    rtneg = np.where(z<-3)[0]\n",
    "    if len(rtpos)>0 and len(rtneg)>0: #this is rare, but it can happen\n",
    "        if rtpos[0] < rtneg[0]:\n",
    "            rt_hist[n] = rtpos[0]\n",
    "            z[rtpos[0]:]=3\n",
    "        else:\n",
    "            rt_hist[n] = rtneg[0]\n",
    "            z[rtneg[0]:]=-3\n",
    "    elif len(rtpos)>0:\n",
    "        rt_hist[n] = rtpos[0]\n",
    "        z[rtpos[0]:]=3        \n",
    "    elif len(rtneg)>0:\n",
    "        rt_hist[n] = rtneg[0]  \n",
    "        z[rtneg[0]:]=-3\n",
    "            \n",
    "    z_hist[:,n] = z\n",
    "\n",
    "plt.plot(z_hist, color = 'black')\n",
    "plt.figure()\n",
    "plt.hist(rt_hist);"
   ]
  },
  {
   "cell_type": "markdown",
   "metadata": {},
   "source": [
    "__15.__ __Optional (harder):__ Histogram the reaction times for correct and incorrect trials separately. For this you'll have to store the response for each trial and use the reponses to index the reaction times for correct and incorrect trials."
   ]
  },
  {
   "cell_type": "code",
   "execution_count": 24,
   "metadata": {},
   "outputs": [
    {
     "data": {
      "image/png": "[encoded data removed]",
      "text/plain": [
       "<Figure size 432x288 with 1 Axes>"
      ]
     },
     "metadata": {
      "needs_background": "light"
     },
     "output_type": "display_data"
    },
    {
     "data": {
      "image/png": "[encoded data removed]",
      "text/plain": [
       "<Figure size 432x288 with 1 Axes>"
      ]
     },
     "metadata": {
      "needs_background": "light"
     },
     "output_type": "display_data"
    },
    {
     "data": {
      "image/png": "[encoded data removed]",
      "text/plain": [
       "<Figure size 432x288 with 1 Axes>"
      ]
     },
     "metadata": {
      "needs_background": "light"
     },
     "output_type": "display_data"
    }
   ],
   "source": [
    "mu = .02\n",
    "std =.25\n",
    "n_trials = 500\n",
    "z_hist = np.zeros([1000, n_trials])\n",
    "rt_pos = []\n",
    "rt_neg = []\n",
    "for n in range(n_trials):\n",
    "    arr_gaussian = np.random.normal(mu,std,size=1000)\n",
    "    z = np.cumsum([arr_gaussian])\n",
    "    rtpos = np.where(z>3)[0]\n",
    "    rtneg = np.where(z<-3)[0]\n",
    "    if len(rtpos)>0 and len(rtneg)>0: #this is rare, but it can happen\n",
    "        if rtpos[0] < rtneg[0]:\n",
    "            rt_pos.append( rtpos[0])\n",
    "            z[rtpos[0]:]=3\n",
    "        else:\n",
    "            rt_neg.append(rtneg[0])\n",
    "            z[rtneg[0]:]=-3\n",
    "    elif len(rtpos)>0:\n",
    "        rt_pos.append( rtpos[0])\n",
    "        z[rtpos[0]:]=3        \n",
    "    elif len(rtneg)>0:\n",
    "        rt_neg.append(rtneg[0]) \n",
    "        z[rtneg[0]:]=-3\n",
    "            \n",
    "    z_hist[:,n] = z\n",
    "\n",
    "plt.plot(z_hist, color = 'black')\n",
    "plt.figure()\n",
    "plt.hist(rt_pos);\n",
    "plt.figure()\n",
    "plt.hist(rt_neg);"
   ]
  },
  {
   "cell_type": "code",
   "execution_count": null,
   "metadata": {},
   "outputs": [],
   "source": []
  }
 ],
 "metadata": {
  "kernelspec": {
   "display_name": "Python 3",
   "language": "python",
   "name": "python3"
  },
  "language_info": {
   "codemirror_mode": {
    "name": "ipython",
    "version": 3
   },
   "file_extension": ".py",
   "mimetype": "text/x-python",
   "name": "python",
   "nbconvert_exporter": "python",
   "pygments_lexer": "ipython3",
   "version": "3.7.2"
  }
 },
 "nbformat": 4,
 "nbformat_minor": 2
}
