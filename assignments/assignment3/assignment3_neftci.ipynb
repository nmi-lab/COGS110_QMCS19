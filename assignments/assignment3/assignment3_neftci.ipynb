{
 "cells": [
  {
   "cell_type": "code",
   "execution_count": 62,
   "metadata": {},
   "outputs": [],
   "source": [
    "import numpy as np\n",
    "import scipy.stats\n",
    "import matplotlib.pyplot as plt"
   ]
  },
  {
   "cell_type": "markdown",
   "metadata": {},
   "source": [
    "### Question 1: Events, their Probabilities, and Payoff in the Roulette Game"
   ]
  },
  {
   "cell_type": "markdown",
   "metadata": {},
   "source": [
    "1. Assuming a perfectly balanced Roulette wheel, calculate the probabilities of each following event (bet):\n",
    "    - Straight up = Any single number\n",
    "    - Split = any two adjoining numbers vertical or horizontal \n",
    "    - Odd = any odd number \n",
    "    - 1st Column  (1, 4, 7, 10, 13, 16, 19, 22, 25, 28, 31, 34)"
   ]
  },
  {
   "cell_type": "markdown",
   "metadata": {},
   "source": [
    "2. Let $X$ be a random variable describing the payout on one of the following bets (strictly speaking we would define one random variable per bet), such that:\n",
    "    - When a straight up bet is won, X=36 otherwise -1 \n",
    "    - When a split up bet is won, X=18 otherwise -1 \n",
    "    - When an odd bet is won, X=2 otherwise -1 \n",
    "    - When a 1st column bet is won, X=3 otherwise -1 \n",
    "\n",
    "What is the expected payout $\\mathbb{E}(X)$ for each bet?"
   ]
  },
  {
   "cell_type": "markdown",
   "metadata": {},
   "source": [
    "3. Assume now that the roulette wheel is not perfectly balanced. This means that the probability of one outcome may be higher than the others. Describe a potential wheel's probability function and event that would lead to $\\mathbb{E}(X)>0$."
   ]
  },
  {
   "cell_type": "markdown",
   "metadata": {},
   "source": [
    "----"
   ]
  },
  {
   "cell_type": "markdown",
   "metadata": {},
   "source": [
    "### Question 2: Conditional Probability and Independence"
   ]
  },
  {
   "cell_type": "markdown",
   "metadata": {},
   "source": [
    "In the green and orange balls setup, two balls are picked in sequence. You can use the decision tree for solving this problem. Alternatively, you can solve it by noticing that \n",
    "$$ P(green ball) = P(red,green ball) + P(blue, green ball) $$\n",
    "And applying the conditional probability rule."
   ]
  },
  {
   "cell_type": "markdown",
   "metadata": {},
   "source": [
    "- With replacement of the picked ball. What is the probability that two orange balls are picked? Are the two picks independent?"
   ]
  },
  {
   "cell_type": "markdown",
   "metadata": {},
   "source": [
    "- Without replacement of the picked ball. What is the probability that two orange balls are picked? Are the two picks independent?"
   ]
  },
  {
   "cell_type": "markdown",
   "metadata": {},
   "source": [
    "----"
   ]
  },
  {
   "cell_type": "markdown",
   "metadata": {},
   "source": [
    "### Question 3: Discrete Distribution and the Memory Recall Experiment"
   ]
  },
  {
   "cell_type": "markdown",
   "metadata": {},
   "source": [
    "- In the memory recall sample, sample correct (simulated) number of responses for r = [1.  , 0.81, 0.7 , 0.47, 0.35, 0.21]. For this, use the function `np.random.binomial`, assuming 90 questions. For example:"
   ]
  },
  {
   "cell_type": "code",
   "execution_count": 86,
   "metadata": {},
   "outputs": [
    {
     "name": "stdout",
     "output_type": "stream",
     "text": [
      "[90]\n"
     ]
    }
   ],
   "source": [
    "N = 90\n",
    "r = 1\n",
    "y = np.random.binomial(N,r,1)\n",
    "print(y)"
   ]
  },
  {
   "cell_type": "markdown",
   "metadata": {},
   "source": [
    "- Assuming r=.95. What is the probability that all answers are correct? You can use the function `scipy.stats.binom.pmf(k,N,r)`\n",
    "- Compute 100 samples from this distribution. Calculate the sample mean and the sample variance over these 100 samples. \n",
    "- Calculate or search online for the expectation and variance of the Binomial distribution. Do the sample means match the expectations? Why?\n",
    "- Write the log-likelihood function for these 100 samples"
   ]
  },
  {
   "cell_type": "code",
   "execution_count": 87,
   "metadata": {},
   "outputs": [],
   "source": [
    "def log_likelihood_recall(r, samples):\n",
    "    return #Your code here"
   ]
  },
  {
   "cell_type": "markdown",
   "metadata": {},
   "source": [
    "Plot it for $.8<r<1.0$ with the following code (no changes necessary). Explain the resulting curve (label the axes, comment on the maxima if any etc.)"
   ]
  },
  {
   "cell_type": "code",
   "execution_count": 88,
   "metadata": {},
   "outputs": [
    {
     "data": {
      "image/png": "[encoded data removed]",
      "text/plain": [
       "<Figure size 432x288 with 1 Axes>"
      ]
     },
     "metadata": {
      "needs_background": "light"
     },
     "output_type": "display_data"
    }
   ],
   "source": [
    "ll = []\n",
    "range_r = np.arange(.8,1.0,.01)\n",
    "for r in range_r:\n",
    "    ll.append(log_likelihood_recall(r, y))\n",
    "    \n",
    "plt.plot(range_r, ll);"
   ]
  },
  {
   "cell_type": "markdown",
   "metadata": {},
   "source": [
    "----"
   ]
  },
  {
   "cell_type": "markdown",
   "metadata": {},
   "source": [
    "### Question 4: Continuous Distribution"
   ]
  },
  {
   "cell_type": "markdown",
   "metadata": {},
   "source": [
    "Recall the BOLD fMRI experiment\n",
    "$$\n",
    "\\begin{split}\n",
    "y_i &= \\alpha + x_i \\beta + \\epsilon_i\\\\\n",
    "\\epsilon_i &\\sim N(0,.2)\n",
    "\\end{split}\n",
    "$$"
   ]
  },
  {
   "cell_type": "markdown",
   "metadata": {},
   "source": [
    "- Assuming parameters $\\beta=.97$ and $\\alpha=.43$, create 10 random samples of $y$ for each of $x$ equal to `[-1,-.65,-.5,-.1,0,.2,.5,.8]`. You can use the function `np.random.normal` to generate the random samples $\\epsilon$."
   ]
  },
  {
   "cell_type": "code",
   "execution_count": 43,
   "metadata": {},
   "outputs": [
    {
     "data": {
      "text/plain": [
       "array([-0.00058318, -0.00880887, -0.04606187,  0.00880336,  0.14674301,\n",
       "       -0.08045394, -0.10727272,  0.03355126, -0.00121802,  0.06867863])"
      ]
     },
     "execution_count": 43,
     "metadata": {},
     "output_type": "execute_result"
    }
   ],
   "source": [
    "N = 10\n",
    "mu = 0\n",
    "sigma = .1\n",
    "np.random.normal(mu, sigma, size=N)"
   ]
  },
  {
   "cell_type": "markdown",
   "metadata": {},
   "source": [
    "- What is the distribution for $y$, including its parameters $\\mu$ and $\\sigma$?\n",
    "- For x=.65, what is the probability that y lies between .96 and 1.16. You can use the function `scipy.stats.norm.cdf`. For example:"
   ]
  },
  {
   "cell_type": "code",
   "execution_count": 44,
   "metadata": {},
   "outputs": [
    {
     "data": {
      "text/plain": [
       "0.9986501019683699"
      ]
     },
     "execution_count": 44,
     "metadata": {},
     "output_type": "execute_result"
    }
   ],
   "source": [
    "mu = 0\n",
    "sigma = .1\n",
    "scipy.stats.norm.cdf(.3,mu,sigma)"
   ]
  },
  {
   "cell_type": "markdown",
   "metadata": {},
   "source": [
    "----"
   ]
  },
  {
   "cell_type": "markdown",
   "metadata": {},
   "source": [
    "Solutions"
   ]
  },
  {
   "cell_type": "code",
   "execution_count": 45,
   "metadata": {},
   "outputs": [
    {
     "data": {
      "text/plain": [
       "1.0605"
      ]
     },
     "execution_count": 45,
     "metadata": {},
     "output_type": "execute_result"
    }
   ],
   "source": [
    "mu = .43+.97*.65\n",
    "mu"
   ]
  },
  {
   "cell_type": "code",
   "execution_count": 46,
   "metadata": {},
   "outputs": [
    {
     "data": {
      "text/plain": [
       "0.38292382234545586"
      ]
     },
     "execution_count": 46,
     "metadata": {},
     "output_type": "execute_result"
    }
   ],
   "source": [
    "sigma = .2\n",
    "scipy.stats.norm.cdf(1.16,mu,sigma) - scipy.stats.norm.cdf(.96,mu,sigma)"
   ]
  },
  {
   "cell_type": "code",
   "execution_count": null,
   "metadata": {},
   "outputs": [],
   "source": [
    "Question 3:"
   ]
  },
  {
   "cell_type": "code",
   "execution_count": 74,
   "metadata": {},
   "outputs": [],
   "source": [
    "s=np.random.binomial(90,.95,size=100)\n",
    "def log_likelihood_recall(r, samples):\n",
    "    return np.log(scipy.stats.binom.pmf(samples,90,r)).sum()"
   ]
  },
  {
   "cell_type": "code",
   "execution_count": 75,
   "metadata": {},
   "outputs": [
    {
     "data": {
      "text/plain": [
       "-18120.184497289847"
      ]
     },
     "execution_count": 75,
     "metadata": {},
     "output_type": "execute_result"
    }
   ],
   "source": [
    "log_likelihood_recall(.1, s)"
   ]
  },
  {
   "cell_type": "code",
   "execution_count": 76,
   "metadata": {},
   "outputs": [
    {
     "name": "stderr",
     "output_type": "stream",
     "text": [
      "/usr/lib/python3.7/site-packages/ipykernel_launcher.py:3: RuntimeWarning: divide by zero encountered in log\n",
      "  This is separate from the ipykernel package so we can avoid doing imports until\n"
     ]
    },
    {
     "data": {
      "text/plain": [
       "<matplotlib.lines.Line2D at 0x7f10825f0f98>"
      ]
     },
     "execution_count": 76,
     "metadata": {},
     "output_type": "execute_result"
    },
    {
     "data": {
      "image/png": "[encoded data removed]",
      "text/plain": [
       "<Figure size 432x288 with 1 Axes>"
      ]
     },
     "metadata": {
      "needs_background": "light"
     },
     "output_type": "display_data"
    }
   ],
   "source": [
    "rr = np.linspace(.8,1.0,100)\n",
    "ll = [log_likelihood_recall(r, s) for r in rr]\n",
    "plt.plot(rr,ll)\n",
    "plt.axvline(.95)"
   ]
  }
 ],
 "metadata": {
  "kernelspec": {
   "display_name": "Python 3",
   "language": "python",
   "name": "python3"
  },
  "language_info": {
   "codemirror_mode": {
    "name": "ipython",
    "version": 3
   },
   "file_extension": ".py",
   "mimetype": "text/x-python",
   "name": "python",
   "nbconvert_exporter": "python",
   "pygments_lexer": "ipython3",
   "version": "3.7.2"
  }
 },
 "nbformat": 4,
 "nbformat_minor": 2
}
