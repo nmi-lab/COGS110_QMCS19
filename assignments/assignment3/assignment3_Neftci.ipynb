{
 "cells": [
  {
   "cell_type": "code",
   "execution_count": 1,
   "metadata": {},
   "outputs": [],
   "source": [
    "import numpy as np\n",
    "import scipy.stats\n",
    "import matplotlib.pyplot as plt"
   ]
  },
  {
   "cell_type": "markdown",
   "metadata": {},
   "source": [
    "### Question 1: Events, their Probabilities, and Payoff in the Roulette Game"
   ]
  },
  {
   "cell_type": "markdown",
   "metadata": {},
   "source": [
    "1. Assuming a perfectly balanced Roulette wheel, calculate the probabilities of each following event (bet):\n",
    "    - Straight up = Any single number\n",
    "    \n",
    "    - Split = any two adjoining numbers vertical or horizontal \n",
    "    - Odd = any odd number \n",
    "    - 1st Column  (1, 4, 7, 10, 13, 16, 19, 22, 25, 28, 31, 34)"
   ]
  },
  {
   "cell_type": "code",
   "execution_count": 2,
   "metadata": {},
   "outputs": [
    {
     "data": {
      "text/plain": [
       "0.02702702702702703"
      ]
     },
     "execution_count": 2,
     "metadata": {},
     "output_type": "execute_result"
    }
   ],
   "source": [
    "1./37 #straight up"
   ]
  },
  {
   "cell_type": "code",
   "execution_count": 3,
   "metadata": {},
   "outputs": [
    {
     "data": {
      "text/plain": [
       "0.05405405405405406"
      ]
     },
     "execution_count": 3,
     "metadata": {},
     "output_type": "execute_result"
    }
   ],
   "source": [
    "2./37 #split"
   ]
  },
  {
   "cell_type": "code",
   "execution_count": 4,
   "metadata": {},
   "outputs": [
    {
     "data": {
      "text/plain": [
       "0.4864864864864865"
      ]
     },
     "execution_count": 4,
     "metadata": {},
     "output_type": "execute_result"
    }
   ],
   "source": [
    "18./37 #Odd"
   ]
  },
  {
   "cell_type": "code",
   "execution_count": 5,
   "metadata": {},
   "outputs": [
    {
     "data": {
      "text/plain": [
       "0.32432432432432434"
      ]
     },
     "execution_count": 5,
     "metadata": {},
     "output_type": "execute_result"
    }
   ],
   "source": [
    "12./37 #1st column"
   ]
  },
  {
   "cell_type": "markdown",
   "metadata": {},
   "source": [
    "2. Let $X$ be a random variable describing the payout on each of the following bets:\n",
    "    - When a straight up bet is won, X=35 otherwise -1 \n",
    "    - When a split up bet is won, X=17 otherwise -1 \n",
    "    - When an odd bet is won, X=1 otherwise -1 \n",
    "    - When a 1st column bet is won, X=2 otherwise -1 \n",
    "\n",
    "What is the expected payout $\\mathbb{E}(X)$ for each bet? (Compute the expectation separately for each event)"
   ]
  },
  {
   "cell_type": "markdown",
   "metadata": {},
   "source": [
    "Formula to apply is $$\\mathbb{E}(X) =\\sum_x P(X=x) x$$"
   ]
  },
  {
   "cell_type": "markdown",
   "metadata": {},
   "source": [
    "<span style=\"color:blue\"> By design, the expectation of every bet is -0.027"
   ]
  },
  {
   "cell_type": "code",
   "execution_count": 6,
   "metadata": {},
   "outputs": [
    {
     "data": {
      "text/plain": [
       "-0.027027027027027084"
      ]
     },
     "execution_count": 6,
     "metadata": {},
     "output_type": "execute_result"
    }
   ],
   "source": [
    "35.*1/37-1.*36/37 #straight up"
   ]
  },
  {
   "cell_type": "code",
   "execution_count": 7,
   "metadata": {},
   "outputs": [
    {
     "data": {
      "text/plain": [
       "-0.027027027027026973"
      ]
     },
     "execution_count": 7,
     "metadata": {},
     "output_type": "execute_result"
    }
   ],
   "source": [
    "17.*2./37-1.*35/37#split"
   ]
  },
  {
   "cell_type": "code",
   "execution_count": 8,
   "metadata": {},
   "outputs": [
    {
     "data": {
      "text/plain": [
       "-0.027027027027026973"
      ]
     },
     "execution_count": 8,
     "metadata": {},
     "output_type": "execute_result"
    }
   ],
   "source": [
    "1.*18./37-1.*19/37 #Odd"
   ]
  },
  {
   "cell_type": "code",
   "execution_count": 9,
   "metadata": {},
   "outputs": [
    {
     "data": {
      "text/plain": [
       "-0.027027027027026973"
      ]
     },
     "execution_count": 9,
     "metadata": {},
     "output_type": "execute_result"
    }
   ],
   "source": [
    "2.*12./37-1.*25/37#1st column"
   ]
  },
  {
   "cell_type": "markdown",
   "metadata": {},
   "source": [
    "3. Assume now that the roulette wheel is not perfectly balanced. This means that the probability of one outcome may be higher than the others. Describe one potential probability function for the wheel outcomes and event that could lead to $\\mathbb{E}(X)\\ge0$."
   ]
  },
  {
   "cell_type": "markdown",
   "metadata": {},
   "source": [
    "<span style=\"color:blue\"> For example favoring numbers on the first column:\n",
    "$P(1st column)$ = 13./37 \n",
    "$P(not 1st column)$ = 1-13./37"
   ]
  },
  {
   "cell_type": "code",
   "execution_count": 10,
   "metadata": {},
   "outputs": [
    {
     "data": {
      "text/plain": [
       "0.05405405405405406"
      ]
     },
     "execution_count": 10,
     "metadata": {},
     "output_type": "execute_result"
    }
   ],
   "source": [
    "2.*13./37-1.*(1-13./37)"
   ]
  },
  {
   "cell_type": "markdown",
   "metadata": {},
   "source": [
    "----"
   ]
  },
  {
   "cell_type": "markdown",
   "metadata": {},
   "source": [
    "### Question 2: Conditional Probability and Independence"
   ]
  },
  {
   "cell_type": "markdown",
   "metadata": {},
   "source": [
    "In the green and orange balls setup, two balls are picked in sequence. You can use the decision tree for solving this problem. Alternatively, you can solve it using the conditional probability rule and noticing that \n",
    "$$ P(green ball) = P(redbox,green ball) + P(bluebox, green ball) $$\n"
   ]
  },
  {
   "cell_type": "markdown",
   "metadata": {},
   "source": [
    "- With replacement of the picked ball. What is the probability that two orange balls are picked? Are the two picks independent?"
   ]
  },
  {
   "cell_type": "markdown",
   "metadata": {},
   "source": [
    "<span style=\"color:blue\"> P(orange) = P(red,orange) + P(blue,orange) = P(orange|red)p(red) + P(orange|blue)p(blue) = .4 * 6./8 +1./4 *.6"
   ]
  },
  {
   "cell_type": "code",
   "execution_count": 11,
   "metadata": {},
   "outputs": [
    {
     "data": {
      "text/plain": [
       "0.45000000000000007"
      ]
     },
     "execution_count": 11,
     "metadata": {},
     "output_type": "execute_result"
    }
   ],
   "source": [
    "6/8*.4 +1/4*.6"
   ]
  },
  {
   "cell_type": "markdown",
   "metadata": {},
   "source": [
    "<span style=\"color:blue\"> The events are independent so \n",
    "$P(orange_1, orange_2) = p(orange_1)p(orange_2)$"
   ]
  },
  {
   "cell_type": "code",
   "execution_count": 12,
   "metadata": {},
   "outputs": [
    {
     "data": {
      "text/plain": [
       "0.2025"
      ]
     },
     "execution_count": 12,
     "metadata": {},
     "output_type": "execute_result"
    }
   ],
   "source": [
    "#P(orange_1, orange_2) \n",
    "0.45**2"
   ]
  },
  {
   "cell_type": "markdown",
   "metadata": {},
   "source": [
    "- Without replacement of the picked ball. What is the probability that two orange balls are picked? Are the two picks independent?"
   ]
  },
  {
   "cell_type": "markdown",
   "metadata": {},
   "source": [
    "<span style=\"color:blue\"> Not independent so\n",
    "$$ p(orange_1,orange_2) = p(orange_1,red_1,orange_2) +  p(orange_1,blue_1,orange_2) = p(orange_2|orange_1,red_1)p(orange_1,red_1) + p(orange_2|orange_1,blue_1)p(orange_1,blue_1)$$\n",
    "We already calculated $p(orange_1,red_1)$ and $p(orange_1,blue_1)$. They are 6/8 * .4  and 1/4 * .6, respectively"
   ]
  },
  {
   "cell_type": "markdown",
   "metadata": {},
   "source": [
    "<span style=\"color:blue\">\n",
    "$p(orange_2|orange_1, red_1)$ and $p(orange_2|orange_1, blue_1)$ is calculated similarly but the number of balls in each box has changed."
   ]
  },
  {
   "cell_type": "markdown",
   "metadata": {},
   "source": [
    "<span style=\"color:blue\"> \n",
    "    $p(orange_2|orange_1, blue_1)$ = .4* 6./8 + 0 (no more orange balls left in the blue box)\n",
    "    "
   ]
  },
  {
   "cell_type": "markdown",
   "metadata": {},
   "source": [
    "<span style=\"color:blue\">\n",
    "$p(orange_2|orange_1, red_1)$ = .4*5./7 + 1./4*.6"
   ]
  },
  {
   "cell_type": "markdown",
   "metadata": {},
   "source": [
    "<span style=\"color:blue\"> Finally, we get:"
   ]
  },
  {
   "cell_type": "code",
   "execution_count": 13,
   "metadata": {},
   "outputs": [
    {
     "data": {
      "text/plain": [
       "0.17571428571428574"
      ]
     },
     "execution_count": 13,
     "metadata": {},
     "output_type": "execute_result"
    }
   ],
   "source": [
    "(.4*5./7 + 1./4*.6)*(.4*6/8) + .25*.6*(.4*6/8)"
   ]
  },
  {
   "cell_type": "markdown",
   "metadata": {},
   "source": [
    "----"
   ]
  },
  {
   "cell_type": "markdown",
   "metadata": {},
   "source": [
    "### Question 3: Discrete Distribution and the Memory Recall Experiment"
   ]
  },
  {
   "cell_type": "markdown",
   "metadata": {},
   "source": [
    "- In the memory recall sample, sample the correct number of responses for r = [1.  , 0.81, 0.7 , 0.47, 0.35, 0.21], where $r$ is the probability of responding correctly to a question. Assume 90 questions total. For sampling with the binomial distribution, you can use the Python function `np.random.binomial`. For example:"
   ]
  },
  {
   "cell_type": "code",
   "execution_count": 14,
   "metadata": {},
   "outputs": [
    {
     "name": "stdout",
     "output_type": "stream",
     "text": [
      "[90]\n"
     ]
    }
   ],
   "source": [
    "N = 90\n",
    "r = 1\n",
    "y = np.random.binomial(N,r,1)\n",
    "print(y)"
   ]
  },
  {
   "cell_type": "markdown",
   "metadata": {},
   "source": [
    "- Assuming r=.95. What is the probability that all answers are correct? The function `scipy.stats.binom.pmf(k,N,r)` computes the binomial probability mass function, i.e. $n\\choose k$ $p^k (1-p)^{n-k}$"
   ]
  },
  {
   "cell_type": "code",
   "execution_count": 15,
   "metadata": {},
   "outputs": [
    {
     "data": {
      "text/plain": [
       "0.009888364709658948"
      ]
     },
     "execution_count": 15,
     "metadata": {},
     "output_type": "execute_result"
    }
   ],
   "source": [
    "scipy.stats.binom.pmf(90,90,.95)"
   ]
  },
  {
   "cell_type": "markdown",
   "metadata": {},
   "source": [
    "<span style=\"color:blue\"> meaning slightly below 1%"
   ]
  },
  {
   "cell_type": "markdown",
   "metadata": {},
   "source": [
    "- Compute 100 samples from this distribution (note that this is like completing a 90 question exam 100 times). Calculate the sample mean and the sample variance over these 100 samples. "
   ]
  },
  {
   "cell_type": "code",
   "execution_count": 16,
   "metadata": {},
   "outputs": [
    {
     "name": "stdout",
     "output_type": "stream",
     "text": [
      "[86 83 88 87 86 86 82 89 88 83 87 84 86 86 81 85 85 86 85 83 88 79 85 87\n",
      " 84 88 83 85 85 80 83 88 80 84 86 85 82 82 85 83 86 84 82 87 83 90 86 86\n",
      " 88 85 82 89 85 86 86 86 85 86 86 87 86 87 85 79 84 88 87 82 89 87 82 89\n",
      " 80 85 86 85 83 85 86 83 89 87 88 88 87 85 87 86 83 83 88 87 85 84 85 85\n",
      " 86 86 85 85]\n",
      "85.2\n",
      "2.3151673805580453\n"
     ]
    }
   ],
   "source": [
    "N = 90\n",
    "r = .95\n",
    "y = np.random.binomial(N,r,100)\n",
    "print(y)\n",
    "print(np.mean(y))\n",
    "print(np.std(y))"
   ]
  },
  {
   "cell_type": "markdown",
   "metadata": {},
   "source": [
    "- Calculate or search online for the expectation and variance of the Binomial distribution. Do the sample means and variances match the expectations? Why?"
   ]
  },
  {
   "cell_type": "markdown",
   "metadata": {},
   "source": [
    "<span style=\"color:blue\">  expectation is Np , variance is Np(1-p), standard deviation is $\\sqrt{variance}$"
   ]
  },
  {
   "cell_type": "code",
   "execution_count": 17,
   "metadata": {},
   "outputs": [
    {
     "name": "stdout",
     "output_type": "stream",
     "text": [
      "85.5 4.275000000000004 2.0676073128135344\n"
     ]
    }
   ],
   "source": [
    "E = N*r\n",
    "V = N*r*(1-r)\n",
    "S = np.sqrt(V)\n",
    "print(E,V,S)"
   ]
  },
  {
   "cell_type": "markdown",
   "metadata": {},
   "source": [
    "- Write the log-likelihood function for these 100 samples"
   ]
  },
  {
   "cell_type": "code",
   "execution_count": 18,
   "metadata": {},
   "outputs": [],
   "source": [
    "def log_likelihood_recall(r, samples):\n",
    "    return np.sum(np.log(scipy.stats.binom.pmf(samples,90,r)))"
   ]
  },
  {
   "cell_type": "markdown",
   "metadata": {},
   "source": [
    "Plot it for $.8<r<1.0$ with the following code (no changes necessary to see the plot). Explain the resulting curve (label the axes, comment on the maxima if any etc.)"
   ]
  },
  {
   "cell_type": "code",
   "execution_count": 19,
   "metadata": {},
   "outputs": [
    {
     "data": {
      "text/plain": [
       "Text(0, 0.5, '$L(r;X) = \\\\sum_i log(P(X_i))$')"
      ]
     },
     "execution_count": 19,
     "metadata": {},
     "output_type": "execute_result"
    },
    {
     "data": {
      "image/png": "[encoded data removed]",
      "text/plain": [
       "<Figure size 432x288 with 1 Axes>"
      ]
     },
     "metadata": {
      "needs_background": "light"
     },
     "output_type": "display_data"
    }
   ],
   "source": [
    "#No changes necessary in this cell\n",
    "ll = []\n",
    "range_r = np.arange(.8,1.0,.01)\n",
    "for r in range_r:\n",
    "    ll.append(log_likelihood_recall(r, y))\n",
    "    \n",
    "plt.plot(range_r, ll);\n",
    "plt.xlabel('r')\n",
    "plt.ylabel('$L(r;X) = \\sum_i log(P(X_i))$')"
   ]
  },
  {
   "cell_type": "markdown",
   "metadata": {},
   "source": [
    "The result is negative because the log of any number smaller than 1 is necessarily negative. The log liklihood peaks at around .95, which is the value use for generating the data."
   ]
  },
  {
   "cell_type": "markdown",
   "metadata": {},
   "source": [
    "----"
   ]
  },
  {
   "cell_type": "markdown",
   "metadata": {},
   "source": [
    "### Question 4: Continuous Distribution"
   ]
  },
  {
   "cell_type": "markdown",
   "metadata": {},
   "source": [
    "Recall the BOLD fMRI experiment\n",
    "$$\n",
    "\\begin{split}\n",
    "y_i &= \\alpha + x_i \\beta + \\epsilon_i\\\\\n",
    "\\epsilon_i &\\sim N(0,.2)\n",
    "\\end{split}\n",
    "$$"
   ]
  },
  {
   "cell_type": "markdown",
   "metadata": {},
   "source": [
    "- Assuming parameters $\\beta=.97$ and $\\alpha=.43$, create 10 random samples of $y$ for each of $x$ in `[-1,-.65,-.5,-.1,0,.2,.5,.8]`. Use the function `np.random.normal` to generate the random samples $\\epsilon$."
   ]
  },
  {
   "cell_type": "code",
   "execution_count": 20,
   "metadata": {},
   "outputs": [
    {
     "data": {
      "text/plain": [
       "array([ 0.05182223, -0.00653359,  0.03042596, -0.00664552, -0.25060008,\n",
       "        0.0111169 ,  0.02416258,  0.03401093,  0.11821319, -0.04658899])"
      ]
     },
     "execution_count": 20,
     "metadata": {},
     "output_type": "execute_result"
    }
   ],
   "source": [
    "N = 10\n",
    "mu = 0\n",
    "sigma = .1\n",
    "np.random.normal(mu, sigma, size=N)"
   ]
  },
  {
   "cell_type": "code",
   "execution_count": 21,
   "metadata": {},
   "outputs": [
    {
     "name": "stdout",
     "output_type": "stream",
     "text": [
      "[[-0.43 -0.57 -0.5  -0.75 -0.66 -0.76 -0.56 -0.59 -0.48 -0.78]\n",
      " [-0.23 -0.36 -0.16 -0.17 -0.2  -0.1  -0.36 -0.13 -0.2  -0.16]\n",
      " [-0.02 -0.03 -0.22  0.03 -0.03  0.03  0.01  0.   -0.03 -0.12]\n",
      " [ 0.34  0.34  0.48  0.3   0.23  0.51  0.2   0.22  0.37  0.34]\n",
      " [ 0.51  0.48  0.31  0.35  0.46  0.58  0.4   0.24  0.41  0.44]\n",
      " [ 0.72  0.5   0.61  0.56  0.73  0.65  0.51  0.52  0.73  0.63]\n",
      " [ 0.85  0.9   0.84  0.98  0.86  1.    1.08  0.91  0.98  0.96]\n",
      " [ 1.1   0.99  1.24  1.21  1.21  1.15  1.16  1.33  1.19  1.05]]\n"
     ]
    }
   ],
   "source": [
    "alpha = .43\n",
    "beta = .97\n",
    "x =  np.array([-1,-.65,-.5,-.1,0,.2,.5,.8])\n",
    "mu = alpha+x*beta\n",
    "y = [np.random.normal(m, sigma, size=N) for m in mu]\n",
    "y=np.array(y)\n",
    "print(np.round(y,2))"
   ]
  },
  {
   "cell_type": "markdown",
   "metadata": {},
   "source": [
    "- Plot the resulting points"
   ]
  },
  {
   "cell_type": "code",
   "execution_count": 22,
   "metadata": {},
   "outputs": [
    {
     "data": {
      "image/png": "[encoded data removed]",
      "text/plain": [
       "<Figure size 432x288 with 1 Axes>"
      ]
     },
     "metadata": {
      "needs_background": "light"
     },
     "output_type": "display_data"
    }
   ],
   "source": [
    "for i in range(len(x)):\n",
    "    plt.scatter(x,y[:,i], color = 'b')"
   ]
  },
  {
   "cell_type": "markdown",
   "metadata": {},
   "source": [
    "- What is the distribution for $y$, including its parameters $\\mu$ and $\\sigma$? Note that the distribution for $y$ is ***not*** $N(0,.2)$\n",
    "- For x=.65, what is the probability that y lies between .96 and 1.16. You can use the function `scipy.stats.norm.cdf`. For example:"
   ]
  },
  {
   "cell_type": "code",
   "execution_count": 23,
   "metadata": {},
   "outputs": [
    {
     "data": {
      "text/plain": [
       "0.02558805952163861"
      ]
     },
     "execution_count": 23,
     "metadata": {},
     "output_type": "execute_result"
    }
   ],
   "source": [
    "mu = alpha+.65*(sigma)\n",
    "sigma = .1\n",
    "scipy.stats.norm.cdf(.3,mu,sigma)"
   ]
  },
  {
   "cell_type": "markdown",
   "metadata": {},
   "source": [
    "The distribution is N(alpha + beta*x, sigma)"
   ]
  },
  {
   "cell_type": "code",
   "execution_count": 27,
   "metadata": {},
   "outputs": [
    {
     "name": "stdout",
     "output_type": "stream",
     "text": [
      "0.2\n"
     ]
    },
    {
     "data": {
      "text/plain": [
       "0.38292382234545586"
      ]
     },
     "execution_count": 27,
     "metadata": {},
     "output_type": "execute_result"
    }
   ],
   "source": [
    "mu = alpha+.65*beta\n",
    "sigma=.\n",
    "print(sigma)\n",
    "scipy.stats.norm.cdf(1.16,mu,sigma) - scipy.stats.norm.cdf(.96,mu,sigma)"
   ]
  },
  {
   "cell_type": "markdown",
   "metadata": {},
   "source": [
    "----"
   ]
  }
 ],
 "metadata": {
  "kernelspec": {
   "display_name": "Python 3",
   "language": "python",
   "name": "python3"
  },
  "language_info": {
   "codemirror_mode": {
    "name": "ipython",
    "version": 3
   },
   "file_extension": ".py",
   "mimetype": "text/x-python",
   "name": "python",
   "nbconvert_exporter": "python",
   "pygments_lexer": "ipython3",
   "version": "3.7.2"
  }
 },
 "nbformat": 4,
 "nbformat_minor": 2
}
