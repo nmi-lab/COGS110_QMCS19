{
 "cells": [
  {
   "cell_type": "markdown",
   "metadata": {},
   "source": [
    "# Assignment 2\n",
    "## Basic Parameter Estimation\n",
    "Note that you do *not* need to write Python code for the mandatory aprts 2. and 3."
   ]
  },
  {
   "cell_type": "markdown",
   "metadata": {},
   "source": [
    "-----------------"
   ]
  },
  {
   "cell_type": "markdown",
   "metadata": {},
   "source": [
    "__1. Below are some parameter estimation scenarios. For each case, which cost function is the most suitable, RMSE, $\\chi^2$ or $G^2$? Is the function linear with respect to its parameters? Is it differentiable with respect to its parameters?__"
   ]
  },
  {
   "cell_type": "markdown",
   "metadata": {},
   "source": [
    "   __a.__ Assume $y(x_1,x_2)$ is the BOLD signal measured in a region of interest, and $x_1$ and $x_2$ are two experimental parameters that the experimenter can choose at will. We would like to fit the following model:  $$y(x_1, x_2) = a_0 + a_1 x_1 + a_2 x_2$$\n",
    "   "
   ]
  },
  {
   "cell_type": "markdown",
   "metadata": {},
   "source": [
    "<span style=\"color:blue\">Linear. Any model of the form $y=a_0 + \\sum_{i=1}^{P} a_i x_i$ is considered linear.\n",
    "A linear model is always differentiable. RMSE is the only choice of cost function since $y$ is continuous</span>"
   ]
  },
  {
   "cell_type": "markdown",
   "metadata": {},
   "source": [
    "__b.__ Assume $y(x)$ is the response of a subject to experimental stimulus $x$. $y$ is modeled such that:\n",
    "$$ y=1 \\text{ if  } a x >0 $$\n",
    "$$ y=0 \\text{ otherwise } $$"
   ]
  },
  {
   "cell_type": "markdown",
   "metadata": {},
   "source": [
    "<span style=\"color:blue\">Non-Linear as it does not have the form given above. Furthermore, it is non-differentiable because of the abrupt step. Since this is a two category task, $\\chi^2$ or $G^2$ is preferred.</span>"
   ]
  },
  {
   "cell_type": "markdown",
   "metadata": {},
   "source": [
    "__c.__ Neurons emit all-or-none spikes or action potentials. Assume $p(n)$ is probability that a neuron emits an action potential when stimulated with $n$ identical pulses. $p$ is modeled according to:\n",
    "$$ p(n)=\\frac{1}{1+e^{-\\beta n}} $$\n"
   ]
  },
  {
   "cell_type": "markdown",
   "metadata": {},
   "source": [
    "<span style=\"color:blue\">Non-Linear as it does not have the form given above. However, it is differentiable (this is function is a \"sigmoid\" function). Since this is a two category task, $\\chi^2$ or $G^2$ is preferred.</span>"
   ]
  },
  {
   "cell_type": "markdown",
   "metadata": {},
   "source": [
    "-----------------"
   ]
  },
  {
   "attachments": {
    "image.png": {
     "image/png": "[encoded data removed]"
    }
   },
   "cell_type": "markdown",
   "metadata": {},
   "source": [
    "__2. On a large number of participants, the time to complete a cognitive task (denoted RT) was recorded for $N$ trials. Two different models can be used to fit the RT averaged across participants__\n",
    "\n",
    "The Exponential Model\n",
    "$$ RT(n) = a_1 + a_2 e^{- \\beta n}$$\n",
    "\n",
    "The Power Model\n",
    "$$ RT(n) = a_1 + a_2 (n + a_3)^{-\\beta}$$\n",
    "\n",
    "where $a_1$, $a_2$, and $a_3$ and $\\beta$ are parameters and $n$ is the trial number. Note that the exponential model has one less parameter than the power model.\n",
    "\n",
    "The following data is observed (blue dots). Additionally, both functions have been fitted using the Nelder-Mead approach and the resulting curves are shown in the figure underneath:\n",
    "\n",
    "\n",
    "|trial | 0   | 1   | 2   | 3   | 4   |\n",
    "|------|-----|-----|-----|-----|-----|\n",
    "|RT    | 5529| 3469| 1706| 1939| 1227|\n",
    "\n",
    "<center>\n",
    "    <img src=\"attachment:image.png\" />\n",
    "</center>\n",
    "\n",
    "Assume that a fitting method gave the following parameters: \n",
    "\n",
    "| Parameter | Exp Model | Power Model |\n",
    "| --- | --- | --- | \n",
    "|$a_1$| 851.3 | -243.40 |\n",
    "|$a_2$| 4496| 30156 |\n",
    "|$a_3$| None   | 3.14 |\n",
    "|$\\beta$| 0.5| 1.46 |\n",
    "\n",
    "Answer the following questions:\n",
    "\n",
    "    a. Calculate the RMSE for both models. Which model provides the best fit?\n",
    "    b. What is the predicted RT for n=5\n",
    "    c. Now assume a new data sample is observed: n = 6 RT = 1199. For each model, does the new the RMSE increase or descrease?\n",
    "    d. With the new data sample, which model provides the best fit?"
   ]
  },
  {
   "cell_type": "markdown",
   "metadata": {},
   "source": [
    "<span style=\"color:blue\"> a. The RMSE values are 386.06 for the exponential model and 384.05 for the power model. Because the power model has a lower rmse, it provides a better fit to this data. See below for an example of how to compute the rmse"
   ]
  },
  {
   "cell_type": "code",
   "execution_count": 14,
   "metadata": {},
   "outputs": [
    {
     "name": "stdout",
     "output_type": "stream",
     "text": [
      "RMSE EXP: 386.04 -- RMSE POW:384.05\n"
     ]
    }
   ],
   "source": [
    "import numpy as np\n",
    "d = np.array([5529., 3469., 1706., 1939., 1227.])\n",
    "n = np.array([0,1,2,3,4])\n",
    "rt_exp = 851.3+4496*np.exp(-.5*n)\n",
    "rt_pow = -243.4+30156*(n+3.14)**(-1.46)\n",
    "rmse_exp = np.sqrt(np.mean((d-rt_exp)**2))\n",
    "rmse_pow = np.sqrt(np.mean((d-rt_pow)**2))\n",
    "print(\"RMSE EXP: {0:.2f} -- RMSE POW:{1:.2f}\".format(rmse_exp, rmse_pow))"
   ]
  },
  {
   "cell_type": "markdown",
   "metadata": {},
   "source": [
    "<span style=\"color:blue\"> b. the prediced RT is 1220.35 for the exponential model and 1168.69 for the power model"
   ]
  },
  {
   "cell_type": "code",
   "execution_count": 15,
   "metadata": {},
   "outputs": [
    {
     "name": "stdout",
     "output_type": "stream",
     "text": [
      "RT EXP: 1220.35 RT POW 1168.69\n"
     ]
    }
   ],
   "source": [
    "rt_exp_5 = 851.3+4496*np.exp(-.5*5)\n",
    "rt_pow_5 = -243.4+30156*(5+3.14)**(-1.46)\n",
    "print(\"RT EXP: {0:.2f} RT POW {1:.2f}\".format(rt_exp_5, rt_pow_5))"
   ]
  },
  {
   "cell_type": "markdown",
   "metadata": {},
   "source": [
    "<span style=\"color:blue\"> c. The new RMSE values are  356.01 and 365.15 for the exponential and power model, respectively. We can use the same code as in (a), but simply extend d and n. Note that np.mean automatically takes care of the 1/N factor in the RMSE formula."
   ]
  },
  {
   "cell_type": "code",
   "execution_count": 16,
   "metadata": {},
   "outputs": [
    {
     "name": "stdout",
     "output_type": "stream",
     "text": [
      "RMSE EXP: 356.01 -- RMSE POW:365.15\n"
     ]
    }
   ],
   "source": [
    "d = np.array([5529., 3469., 1706., 1939., 1227.,1199])\n",
    "n = np.array([0,1,2,3,4,6])\n",
    "rt_exp = 851.3+4496*np.exp(-.5*n)\n",
    "rt_pow = -243.4+30156*(n+3.14)**(-1.46)\n",
    "rmse_exp = np.sqrt(np.mean((d-rt_exp)**2))\n",
    "rmse_pow = np.sqrt(np.mean((d-rt_pow)**2))\n",
    "print(\"RMSE EXP: {0:.2f} -- RMSE POW:{1:.2f}\".format(rmse_exp, rmse_pow))"
   ]
  },
  {
   "cell_type": "markdown",
   "metadata": {},
   "source": [
    "<span style=\"color:blue\">  d. The exponential model provides the best fit"
   ]
  },
  {
   "cell_type": "markdown",
   "metadata": {},
   "source": [
    "-----------------"
   ]
  },
  {
   "cell_type": "markdown",
   "metadata": {},
   "source": [
    "__3. Optional: Perform a parameter fit with Python.__ "
   ]
  },
  {
   "cell_type": "markdown",
   "metadata": {},
   "source": [
    "Start by loading the relevant modules"
   ]
  },
  {
   "cell_type": "code",
   "execution_count": 44,
   "metadata": {},
   "outputs": [],
   "source": [
    "import numpy as np\n",
    "from matplotlib import pylab as plt\n",
    "import scipy.optimize"
   ]
  },
  {
   "cell_type": "markdown",
   "metadata": {},
   "source": [
    "Let's assume that $x$ is an experiment parameter and $d$ is the observed data (20 samples). Here we will use the following model for fitting and data generation, \n",
    "$$\n",
    "y(x) = \\frac{1}{1+e^{-(p_0 + p_1 x)}}\n",
    "$$\n",
    "Using the model for data synthesis and fitting is commen when studying the optimization methods. Write the function here:"
   ]
  },
  {
   "cell_type": "code",
   "execution_count": 45,
   "metadata": {},
   "outputs": [],
   "source": [
    "def model(params, x):\n",
    "    '''\n",
    "    params: is a list or numpy array containing two parameters\n",
    "    x: are the model inputs\n",
    "    '''\n",
    "    p0 = params[0]\n",
    "    p1 = params[1]\n",
    "    return 1./(1+np.exp(-(p0+p1*x)))"
   ]
  },
  {
   "cell_type": "markdown",
   "metadata": {},
   "source": [
    "Let's generate some data from our model and add some noise to it (too make it \"look\" like true data)"
   ]
  },
  {
   "cell_type": "code",
   "execution_count": 46,
   "metadata": {},
   "outputs": [],
   "source": [
    "N = 20\n",
    "x = np.linspace(-15,15,N) \n",
    "true_parameters = [.1, .37]\n",
    "d = model(true_parameters,x) + np.random.normal(0,.04,N)"
   ]
  },
  {
   "cell_type": "code",
   "execution_count": 47,
   "metadata": {},
   "outputs": [
    {
     "data": {
      "image/png": "[encoded data removed]",
      "text/plain": [
       "<Figure size 432x288 with 1 Axes>"
      ]
     },
     "metadata": {
      "needs_background": "light"
     },
     "output_type": "display_data"
    }
   ],
   "source": [
    "plt.scatter(x,d);"
   ]
  },
  {
   "cell_type": "markdown",
   "metadata": {},
   "source": [
    "Now we're ready to do the fit. First construct a function that returns the RMSE."
   ]
  },
  {
   "cell_type": "code",
   "execution_count": 56,
   "metadata": {},
   "outputs": [],
   "source": [
    "def rmse(params):\n",
    "    return np.sqrt(np.mean((d-model(params, x))**2))"
   ]
  },
  {
   "cell_type": "markdown",
   "metadata": {},
   "source": [
    "The following function from the scipy module will do the fit. For this to work, you need to choose an initial guess of the parameters. This should be a list or numpy array with the same dimensions as `true_parameters`."
   ]
  },
  {
   "cell_type": "code",
   "execution_count": 57,
   "metadata": {},
   "outputs": [
    {
     "data": {
      "text/plain": [
       "0.04147570078533946"
      ]
     },
     "execution_count": 57,
     "metadata": {},
     "output_type": "execute_result"
    }
   ],
   "source": [
    "rmse(true_parameters)"
   ]
  },
  {
   "cell_type": "code",
   "execution_count": 58,
   "metadata": {},
   "outputs": [],
   "source": [
    "initial_guess =  [.1,.3]\n",
    "return_fit = scipy.optimize.minimize(rmse, initial_guess, method = 'Nelder-Mead') #This is the Nelder Mead (simplex) optimizer seen in class\n",
    "fitted_parameters = return_fit['x'] #this extracts the fitted parameters"
   ]
  },
  {
   "cell_type": "markdown",
   "metadata": {},
   "source": [
    "Now plot the fit and the data on top of each other:"
   ]
  },
  {
   "cell_type": "code",
   "execution_count": 59,
   "metadata": {},
   "outputs": [
    {
     "data": {
      "image/png": "[encoded data removed]",
      "text/plain": [
       "<Figure size 432x288 with 1 Axes>"
      ]
     },
     "metadata": {
      "needs_background": "light"
     },
     "output_type": "display_data"
    }
   ],
   "source": [
    "plt.scatter(x,d, label = 'data');\n",
    "plt.plot(x, model(fitted_parameters, x), label = 'model');\n",
    "plt.plot(x, model(true_parameters, x), label = 'model');"
   ]
  }
 ],
 "metadata": {
  "kernelspec": {
   "display_name": "Python 3",
   "language": "python",
   "name": "python3"
  },
  "language_info": {
   "codemirror_mode": {
    "name": "ipython",
    "version": 3
   },
   "file_extension": ".py",
   "mimetype": "text/x-python",
   "name": "python",
   "nbconvert_exporter": "python",
   "pygments_lexer": "ipython3",
   "version": "3.7.2"
  }
 },
 "nbformat": 4,
 "nbformat_minor": 2
}
