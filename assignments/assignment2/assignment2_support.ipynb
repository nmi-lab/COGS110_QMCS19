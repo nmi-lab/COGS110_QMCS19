{
 "cells": [
  {
   "cell_type": "code",
   "execution_count": 1,
   "metadata": {},
   "outputs": [],
   "source": [
    "import scipy.optimize\n",
    "import numpy as np\n",
    "from matplotlib import pylab as plt\n",
    "np.random.seed(0)"
   ]
  },
  {
   "cell_type": "code",
   "execution_count": 2,
   "metadata": {},
   "outputs": [],
   "source": [
    "a=1000\n",
    "b=4000\n",
    "c=1./2\n",
    "ey = 10\n",
    "f = lambda a,b,c, n: a + b * np.exp(-c * n)\n",
    "f2 = lambda a,b,c,d, n: a + b*(n+d)**(-c)"
   ]
  },
  {
   "cell_type": "code",
   "execution_count": 3,
   "metadata": {},
   "outputs": [],
   "source": [
    "n = np.arange(0,5,.1)\n",
    "y = np.round(f(a,b,c, n)  +  np.random.normal(0,300, size=len(n)))\n",
    "y2 = np.round(f2(a,b,ey,c, n)  +  np.random.normal(0,300, size=len(n)))\n"
   ]
  },
  {
   "cell_type": "code",
   "execution_count": 4,
   "metadata": {},
   "outputs": [],
   "source": [
    "def model(p, x=n):\n",
    "    return f(p[0],p[1],p[2],x)"
   ]
  },
  {
   "cell_type": "code",
   "execution_count": 5,
   "metadata": {},
   "outputs": [],
   "source": [
    "def rmse(p, x=n, data=y):\n",
    "    return np.sqrt(1./len(data)*np.sum((data-model(p, x))**2))"
   ]
  },
  {
   "cell_type": "code",
   "execution_count": 6,
   "metadata": {},
   "outputs": [],
   "source": [
    "def model2(p, x=n):\n",
    "    return f2(p[0],p[1],p[2],p[3],x)"
   ]
  },
  {
   "cell_type": "code",
   "execution_count": 7,
   "metadata": {},
   "outputs": [],
   "source": [
    "def rmse2(p, x=n, data=y):\n",
    "    return np.sqrt(1./len(data)*np.sum((data-model2(p, x))**2))"
   ]
  },
  {
   "cell_type": "code",
   "execution_count": 8,
   "metadata": {},
   "outputs": [],
   "source": [
    "return_fit = scipy.optimize.minimize(rmse, [1000,2000,.1], method = 'Nelder-Mead')\n",
    "bfit = return_fit['x'] #least_squares returns a dictionary of lot of things. We just pick 'x', which is the fitted parameters"
   ]
  },
  {
   "cell_type": "code",
   "execution_count": 9,
   "metadata": {},
   "outputs": [],
   "source": [
    "return_fit2 = scipy.optimize.minimize(rmse2, [1000,2000,100,.1], method = 'Nelder-Mead')\n",
    "bfit2 = return_fit2['x'] #least_squares returns a dictionary of lot of things. We just pick 'x', which is the fitted parameters"
   ]
  },
  {
   "cell_type": "code",
   "execution_count": 10,
   "metadata": {},
   "outputs": [
    {
     "data": {
      "text/plain": [
       "array([8.51272323e+02, 4.49612567e+03, 4.98372751e-01])"
      ]
     },
     "execution_count": 10,
     "metadata": {},
     "output_type": "execute_result"
    }
   ],
   "source": [
    "bfit"
   ]
  },
  {
   "cell_type": "code",
   "execution_count": 11,
   "metadata": {},
   "outputs": [
    {
     "data": {
      "text/plain": [
       "array([5431.26753325, 5177.1920455 , 4941.71111349, 4722.96614493,\n",
       "       4519.3312758 , 4329.3786705 , 4151.84978035, 3985.63140966,\n",
       "       3829.73568413, 3683.28320496, 3545.48881775, 3415.64953833,\n",
       "       3293.13426689, 3177.37499123, 3067.85923572, 2964.12355665,\n",
       "       2865.74791997, 2772.35082605, 2683.58506924, 2599.13403857,\n",
       "       2518.7084814 , 2442.04366443, 2368.89687676, 2299.04522831,\n",
       "       2232.28370386, 2168.42343927, 2107.29019085, 2048.72297345,\n",
       "       1992.57284619, 1938.7018275 , 1886.98192395, 1837.29425934,\n",
       "       1789.52829209, 1743.58111101, 1699.35680031, 1656.76586626,\n",
       "       1615.72471853, 1576.15520049, 1537.98416296, 1501.14307708,\n",
       "       1465.56768201, 1431.197664  , 1397.97636365, 1365.85050846,\n",
       "       1334.76996832, 1304.68753148, 1275.5586993 , 1247.34149781,\n",
       "       1219.99630452, 1193.48568921])"
      ]
     },
     "execution_count": 11,
     "metadata": {},
     "output_type": "execute_result"
    }
   ],
   "source": [
    "model2(bfit2, x=n)"
   ]
  },
  {
   "cell_type": "code",
   "execution_count": 12,
   "metadata": {},
   "outputs": [
    {
     "name": "stdout",
     "output_type": "stream",
     "text": [
      "[5529. 3469. 1706. 1939. 1227.]\n"
     ]
    },
    {
     "data": {
      "image/png": "[encoded data removed]",
      "text/plain": [
       "<Figure size 432x288 with 1 Axes>"
      ]
     },
     "metadata": {
      "needs_background": "light"
     },
     "output_type": "display_data"
    }
   ],
   "source": [
    "plt.scatter(n[::10], y[::10])\n",
    "nfit = np.arange(0,10,.1)\n",
    "plt.plot(nfit, model(bfit, x=nfit), alpha=.5, linewidth=1, color='black', label='Exp model')\n",
    "plt.plot(nfit, model2(bfit2, x=nfit), alpha=.5, linewidth=1, color='red', label='Power model')\n",
    "plt.xlabel('Trial $n$')\n",
    "plt.ylabel('Reation Time $RT(n)$')\n",
    "plt.xticks(range(0,11,2))\n",
    "plt.ylim([0,7000])\n",
    "plt.legend()\n",
    "plt.savefig('assignment2_figure1.png')\n",
    "print(y[::10])"
   ]
  },
  {
   "cell_type": "code",
   "execution_count": 13,
   "metadata": {},
   "outputs": [
    {
     "data": {
      "text/plain": [
       "312.48828759886743"
      ]
     },
     "execution_count": 13,
     "metadata": {},
     "output_type": "execute_result"
    }
   ],
   "source": [
    "rmse(bfit)"
   ]
  },
  {
   "cell_type": "code",
   "execution_count": 14,
   "metadata": {},
   "outputs": [
    {
     "data": {
      "text/plain": [
       "1199.1482734714557"
      ]
     },
     "execution_count": 14,
     "metadata": {},
     "output_type": "execute_result"
    }
   ],
   "source": [
    "f(a,b,c,6)"
   ]
  },
  {
   "cell_type": "code",
   "execution_count": 15,
   "metadata": {},
   "outputs": [
    {
     "data": {
      "text/plain": [
       "388.80118879774403"
      ]
     },
     "execution_count": 15,
     "metadata": {},
     "output_type": "execute_result"
    }
   ],
   "source": [
    "rmse(bfit, x=n[::10], data=y[::10])"
   ]
  },
  {
   "cell_type": "code",
   "execution_count": 16,
   "metadata": {},
   "outputs": [
    {
     "data": {
      "text/plain": [
       "383.54078509845993"
      ]
     },
     "execution_count": 16,
     "metadata": {},
     "output_type": "execute_result"
    }
   ],
   "source": [
    "rmse2(bfit2, x=n[::10], data=y[::10])"
   ]
  },
  {
   "cell_type": "code",
   "execution_count": 17,
   "metadata": {},
   "outputs": [
    {
     "data": {
      "text/plain": [
       "358.3849083193466"
      ]
     },
     "execution_count": 17,
     "metadata": {},
     "output_type": "execute_result"
    }
   ],
   "source": [
    "rmse(bfit, x = np.concatenate([n[::10],[6]]), data =np.concatenate([y[::10],[1199]]))"
   ]
  },
  {
   "cell_type": "code",
   "execution_count": 18,
   "metadata": {},
   "outputs": [
    {
     "data": {
      "text/plain": [
       "364.8042516766831"
      ]
     },
     "execution_count": 18,
     "metadata": {},
     "output_type": "execute_result"
    }
   ],
   "source": [
    "rmse2(bfit2, x = np.concatenate([n[::10],[6]]), data =np.concatenate([y[::10],[1199]]))"
   ]
  },
  {
   "cell_type": "code",
   "execution_count": 19,
   "metadata": {},
   "outputs": [
    {
     "data": {
      "text/plain": [
       "array([5529., 3469., 1706., 1939., 1227.])"
      ]
     },
     "execution_count": 19,
     "metadata": {},
     "output_type": "execute_result"
    }
   ],
   "source": [
    "y[::10]"
   ]
  },
  {
   "cell_type": "code",
   "execution_count": 20,
   "metadata": {},
   "outputs": [
    {
     "data": {
      "text/plain": [
       "'851.27 4496.13 0.50'"
      ]
     },
     "execution_count": 20,
     "metadata": {},
     "output_type": "execute_result"
    }
   ],
   "source": [
    "\"{0:.2f} {1:.2f} {2:.2f}\".format(*bfit)"
   ]
  },
  {
   "cell_type": "code",
   "execution_count": 21,
   "metadata": {},
   "outputs": [
    {
     "data": {
      "text/plain": [
       "'-243.40 30155.79 1.46 3.14'"
      ]
     },
     "execution_count": 21,
     "metadata": {},
     "output_type": "execute_result"
    }
   ],
   "source": [
    "\"{0:.2f} {1:.2f} {2:.2f} {3:.2f}\".format(*bfit2)"
   ]
  },
  {
   "cell_type": "code",
   "execution_count": null,
   "metadata": {},
   "outputs": [],
   "source": []
  }
 ],
 "metadata": {
  "kernelspec": {
   "display_name": "Python 3",
   "language": "python",
   "name": "python3"
  },
  "language_info": {
   "codemirror_mode": {
    "name": "ipython",
    "version": 3
   },
   "file_extension": ".py",
   "mimetype": "text/x-python",
   "name": "python",
   "nbconvert_exporter": "python",
   "pygments_lexer": "ipython3",
   "version": "3.7.2"
  }
 },
 "nbformat": 4,
 "nbformat_minor": 2
}
