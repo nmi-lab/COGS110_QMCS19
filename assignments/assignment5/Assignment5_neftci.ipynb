{
 "cells": [
  {
   "cell_type": "markdown",
   "metadata": {},
   "source": [
    "# Assignment 5 Vectors, Matrices, and Neural Networks"
   ]
  },
  {
   "cell_type": "markdown",
   "metadata": {},
   "source": [
    "## Question 1: Vector length and Dot Product"
   ]
  },
  {
   "cell_type": "markdown",
   "metadata": {},
   "source": [
    "Three vectors: $\\mathbf{u} = (-.6, .8)$, $\\mathbf{v} = (3,4)$, and $\\mathbf{w} = (8, 6)$."
   ]
  },
  {
   "cell_type": "markdown",
   "metadata": {},
   "source": [
    "1. Calculate the dot products $\\mathbf{u} \\cdot \\mathbf{v}$, $\\mathbf{w} \\cdot \\mathbf{v}$, and $\\mathbf{u} \\cdot ( \\mathbf{w} + \\mathbf{v} )$"
   ]
  },
  {
   "cell_type": "code",
   "execution_count": 2,
   "metadata": {},
   "outputs": [
    {
     "data": {
      "text/plain": [
       "1.4000000000000004"
      ]
     },
     "execution_count": 2,
     "metadata": {},
     "output_type": "execute_result"
    }
   ],
   "source": [
    "import numpy as np\n",
    "u = np.array([-.6,.8])\n",
    "v = np.array([3,4])\n",
    "w = np.array([8,6])\n",
    "\n",
    "u[0]*v[0] +  u[1]*v[1]"
   ]
  },
  {
   "cell_type": "markdown",
   "metadata": {},
   "source": [
    "this can also be calculated using numpy function dot"
   ]
  },
  {
   "cell_type": "code",
   "execution_count": 3,
   "metadata": {},
   "outputs": [
    {
     "data": {
      "text/plain": [
       "1.4000000000000004"
      ]
     },
     "execution_count": 3,
     "metadata": {},
     "output_type": "execute_result"
    }
   ],
   "source": [
    "np.dot(u,v)"
   ]
  },
  {
   "cell_type": "code",
   "execution_count": 4,
   "metadata": {},
   "outputs": [
    {
     "data": {
      "text/plain": [
       "48"
      ]
     },
     "execution_count": 4,
     "metadata": {},
     "output_type": "execute_result"
    }
   ],
   "source": [
    "w[0]*v[0] +  w[1]*v[1]"
   ]
  },
  {
   "cell_type": "code",
   "execution_count": 5,
   "metadata": {},
   "outputs": [
    {
     "data": {
      "text/plain": [
       "1.4000000000000004"
      ]
     },
     "execution_count": 5,
     "metadata": {},
     "output_type": "execute_result"
    }
   ],
   "source": [
    "u[0]*(w+v)[0] +  u[1]*(w+v)[1]"
   ]
  },
  {
   "cell_type": "markdown",
   "metadata": {},
   "source": [
    "2. Compute the lengths of vectors $||\\mathbf{u}||$, $||\\mathbf{v}||$ and $||\\mathbf{w}||$ given above."
   ]
  },
  {
   "cell_type": "markdown",
   "metadata": {},
   "source": [
    "length of vector x is is $\\sqrt{ x\\cdot x}$, so "
   ]
  },
  {
   "cell_type": "code",
   "execution_count": 6,
   "metadata": {},
   "outputs": [
    {
     "data": {
      "text/plain": [
       "1.0"
      ]
     },
     "execution_count": 6,
     "metadata": {},
     "output_type": "execute_result"
    }
   ],
   "source": [
    "np.sqrt(np.dot(u,u))"
   ]
  },
  {
   "cell_type": "code",
   "execution_count": 7,
   "metadata": {},
   "outputs": [
    {
     "data": {
      "text/plain": [
       "5.0"
      ]
     },
     "execution_count": 7,
     "metadata": {},
     "output_type": "execute_result"
    }
   ],
   "source": [
    "np.sqrt(np.dot(v,v))"
   ]
  },
  {
   "cell_type": "code",
   "execution_count": 8,
   "metadata": {},
   "outputs": [
    {
     "data": {
      "text/plain": [
       "10.0"
      ]
     },
     "execution_count": 8,
     "metadata": {},
     "output_type": "execute_result"
    }
   ],
   "source": [
    "np.sqrt(np.dot(w,w))"
   ]
  },
  {
   "cell_type": "markdown",
   "metadata": {},
   "source": [
    "3. Find unit length vectors in the directions of $\\mathbf{v}$ and $\\mathbf{w}$ (for this use the fact that $\\frac{\\mathbf{x}}{||\\mathbf{x}||}$ has unit length)"
   ]
  },
  {
   "cell_type": "markdown",
   "metadata": {},
   "source": [
    "Dividing all components of a verctor by the length of the vector resuts in a unit vector. In fact $||r \\mathbf{v}||$ = $r || \\mathbf{v}||$, if r is equal to $1/||\\mathbf{v}||$, then $||r \\mathbf{v}||$=1"
   ]
  },
  {
   "cell_type": "code",
   "execution_count": 9,
   "metadata": {},
   "outputs": [
    {
     "data": {
      "text/plain": [
       "array([0.6, 0.8])"
      ]
     },
     "execution_count": 9,
     "metadata": {},
     "output_type": "execute_result"
    }
   ],
   "source": [
    "v/np.sqrt(np.dot(v,v))"
   ]
  },
  {
   "cell_type": "code",
   "execution_count": 10,
   "metadata": {},
   "outputs": [
    {
     "data": {
      "text/plain": [
       "array([0.8, 0.6])"
      ]
     },
     "execution_count": 10,
     "metadata": {},
     "output_type": "execute_result"
    }
   ],
   "source": [
    "w/np.sqrt(np.dot(w,w))"
   ]
  },
  {
   "cell_type": "markdown",
   "metadata": {},
   "source": [
    "4. Find vectors that have angles $\\theta=0\\deg,90\\deg,180\\deg$ with the vector $\\mathbf{w}$.  "
   ]
  },
  {
   "cell_type": "markdown",
   "metadata": {},
   "source": [
    "Recall that $\\mathbf{w}\\cdot\\mathbf{x} = ||\\mathbf{w}|| ||\\mathbf{x}||  cos\\theta$. We need to find vectors $\\mathbf{x}$, $\\mathbf{y}$, $\\mathbf{z}$ that are aligned with w, perpendicular with w and opposite to w respectively. For example\n",
    "$\\mathbf{x = w}$, $\\mathbf{y = (6,-8)}$ and $\\mathbf{z = -w}$ "
   ]
  },
  {
   "cell_type": "markdown",
   "metadata": {},
   "source": [
    "5. How long is the vector $v=(1,1,\\cdots,1)$ in 30 dimensions?"
   ]
  },
  {
   "cell_type": "markdown",
   "metadata": {},
   "source": [
    "using the formula for length $\\sqrt{\\sum_{i=1}^{30} 1} = \\sqrt{30}$"
   ]
  },
  {
   "cell_type": "markdown",
   "metadata": {},
   "source": [
    "## Question 2: Classification with the Perceptron and the Perceptron Learning Rule"
   ]
  },
  {
   "cell_type": "markdown",
   "metadata": {},
   "source": [
    "Suppose we would like to separate members of the family MacDonalds from the members of the family Campbells using 3 features (inputs):\n",
    "$x_1$: eye separation\n",
    "$x_2$: mouth height\n",
    "$x_3$: nose length\n",
    "\n",
    "Data samples: \n",
    "- (1. ,0.1 ,.4), type 'Campbells' \n",
    "- (.9 ,0.15,.3), type 'Campbells'\n",
    "- (1. ,0.11 ,.35), type 'MacDonalds' \n",
    "- (1.1,0.09,.42), type 'MacDonalds'"
   ]
  },
  {
   "cell_type": "markdown",
   "metadata": {},
   "source": [
    "- Is this problem linearly separable? Why?"
   ]
  },
  {
   "cell_type": "code",
   "execution_count": 11,
   "metadata": {},
   "outputs": [
    {
     "data": {
      "text/plain": [
       "<mpl_toolkits.mplot3d.art3d.Path3DCollection at 0x7fe40b5483c8>"
      ]
     },
     "execution_count": 11,
     "metadata": {},
     "output_type": "execute_result"
    },
    {
     "data": {
      "image/png": "[encoded data removed]",
      "text/plain": [
       "<Figure size 432x288 with 1 Axes>"
      ]
     },
     "metadata": {
      "needs_background": "light"
     },
     "output_type": "display_data"
    }
   ],
   "source": [
    "%matplotlib inline  \n",
    "from mpl_toolkits.mplot3d import Axes3D\n",
    "import matplotlib.pyplot as plt\n",
    "import numpy as np\n",
    "\n",
    "d_1 = (1., .1, .4)\n",
    "d_2 = (.9, .15, .3)\n",
    "d_3 = (1., .11, .35)\n",
    "d_4 = (1.1, .09, .42)\n",
    "D = np.row_stack([d_1,d_2,d_3,d_4])\n",
    "\n",
    "\n",
    "fig = plt.figure()\n",
    "ax = fig.add_subplot(111, projection='3d')\n",
    "\n",
    "ax.scatter(D[:,0], D[:,1], D[:,2], zdir='z', s=20, c=['r','r','b','b'], depthshade=True)"
   ]
  },
  {
   "cell_type": "markdown",
   "metadata": {},
   "source": [
    "The criterion for linear separability is that a plane (\"sheet of paper\") can be passed through red and blue"
   ]
  },
  {
   "cell_type": "markdown",
   "metadata": {},
   "source": [
    "- Find the weights $w_1, w_2, w_3, b$ of one perceptron using the data above"
   ]
  },
  {
   "cell_type": "markdown",
   "metadata": {},
   "source": [
    "we need to find weights such that $y(\\mathbf{w} \\cdot \\mathbf{d_1} + b)=1$, $y(\\mathbf{w} \\cdot \\mathbf{d_2})=1$, $y(\\mathbf{w} \\cdot \\mathbf{d_3} + b)=-1$, $y(\\mathbf{w} \\cdot \\mathbf{d_4})=-1$"
   ]
  },
  {
   "cell_type": "markdown",
   "metadata": {},
   "source": [
    "Since y is the result of a step function that flips at 0, we simply need to check the sign of the neuron input, i.e. $\\mathbf{w\\cdot x} + b$"
   ]
  },
  {
   "cell_type": "code",
   "execution_count": 12,
   "metadata": {},
   "outputs": [],
   "source": [
    "w= np.array([-5.48,   4.744,  7.15 ])\n",
    "\n",
    "w1=3.61\n",
    "w2=36.08\n",
    "w3=9.02\n",
    "b=1\n",
    "w = np.array([w1,w2,w3])"
   ]
  },
  {
   "cell_type": "code",
   "execution_count": 13,
   "metadata": {},
   "outputs": [
    {
     "name": "stdout",
     "output_type": "stream",
     "text": [
      "True True False False\n"
     ]
    }
   ],
   "source": [
    "y1 = (np.dot(w,d_1) + b)>0\n",
    "y2 = (np.dot(w,d_2) + b)>0\n",
    "y3 = (np.dot(w,d_3) + b)<0 \n",
    "y4 = (np.dot(w,d_4) + b)<0 \n",
    "print(y1,y2,y3,y4)"
   ]
  },
  {
   "cell_type": "markdown",
   "metadata": {},
   "source": [
    "- Bonus points: write the perceptron weight update with $\\eta=.1$. "
   ]
  },
  {
   "cell_type": "code",
   "execution_count": 14,
   "metadata": {},
   "outputs": [],
   "source": [
    "#initial weight\n",
    "w=np.array([-.5,.1,.25])\n",
    "b=.75\n",
    "target = np.array([1,1,-1,-1])\n",
    "d = np.array([d_1,d_2,d_3,d_4])\n",
    "y = np.array([y1,y2,y3,y4])\n",
    "while not np.all(y==target): #all checks if all arguments are True. \n",
    "    y1 = np.sign(np.dot(w,d_1) + b)\n",
    "    y2 = np.sign(np.dot(w,d_2) + b)\n",
    "    y3 = np.sign(np.dot(w,d_3) + b)\n",
    "    y4 = np.sign(np.dot(w,d_4) + b)\n",
    "    y = np.array([y1,y2,y3,y4])\n",
    "    w += .1 * np.dot((target-y),d)\n",
    "    b += .1 * np.dot((target-y),np.ones(4))"
   ]
  }
 ],
 "metadata": {
  "kernelspec": {
   "display_name": "Python 3",
   "language": "python",
   "name": "python3"
  },
  "language_info": {
   "codemirror_mode": {
    "name": "ipython",
    "version": 3
   },
   "file_extension": ".py",
   "mimetype": "text/x-python",
   "name": "python",
   "nbconvert_exporter": "python",
   "pygments_lexer": "ipython3",
   "version": "3.7.2"
  }
 },
 "nbformat": 4,
 "nbformat_minor": 2
}
