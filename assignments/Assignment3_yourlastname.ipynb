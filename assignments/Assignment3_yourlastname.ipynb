{
 "cells": [
  {
   "cell_type": "code",
   "execution_count": 2,
   "metadata": {},
   "outputs": [],
   "source": [
    "import numpy as np\n",
    "import scipy.stats\n",
    "import matplotlib.pyplot as plt"
   ]
  },
  {
   "cell_type": "markdown",
   "metadata": {},
   "source": [
    "### Question 1: Events, their Probabilities, and Payoff in the Roulette Game"
   ]
  },
  {
   "cell_type": "markdown",
   "metadata": {},
   "source": [
    "1. Assuming a perfectly balanced Roulette wheel, calculate the probabilities of each following event (bet):\n",
    "    - Straight up = Any single number\n",
    "    - Split = any two adjoining numbers vertical or horizontal \n",
    "    - Odd = any odd number \n",
    "    - 1st Column  (1, 4, 7, 10, 13, 16, 19, 22, 25, 28, 31, 34)"
   ]
  },
  {
   "cell_type": "markdown",
   "metadata": {},
   "source": [
    "2. Let $X$ be a random variable describing the payout on each of the following bets:\n",
    "    - When a straight up bet is won, X=35 otherwise -1 \n",
    "    - When a split up bet is won, X=17 otherwise -1 \n",
    "    - When an odd bet is won, X=1 otherwise -1 \n",
    "    - When a 1st column bet is won, X=2 otherwise -1 \n",
    "\n",
    "What is the expected payout $\\mathbb{E}(X)$ for each bet? (Compute the expectation separately for each event)"
   ]
  },
  {
   "cell_type": "markdown",
   "metadata": {},
   "source": [
    "3. Assume now that the roulette wheel is not perfectly balanced. This means that the probability of one outcome may be higher than the others. Describe one potential probability function for the wheel outcomes and event that could lead to $\\mathbb{E}(X)\\ge0$."
   ]
  },
  {
   "cell_type": "markdown",
   "metadata": {},
   "source": [
    "----"
   ]
  },
  {
   "cell_type": "markdown",
   "metadata": {},
   "source": [
    "### Question 2: Conditional Probability and Independence"
   ]
  },
  {
   "cell_type": "markdown",
   "metadata": {},
   "source": [
    "In the green and orange balls setup, two balls are picked in sequence. You can use the decision tree for solving this problem. Alternatively, you can solve it using the conditional probability rule and noticing that \n",
    "$$ P(green ball) = P(redbox,green ball) + P(bluebox, green ball) $$\n"
   ]
  },
  {
   "cell_type": "markdown",
   "metadata": {},
   "source": [
    "- With replacement of the picked ball. What is the probability that two orange balls are picked? Are the two picks independent?"
   ]
  },
  {
   "cell_type": "markdown",
   "metadata": {},
   "source": [
    "- Without replacement of the picked ball. What is the probability that two orange balls are picked? Are the two picks independent?"
   ]
  },
  {
   "cell_type": "markdown",
   "metadata": {},
   "source": [
    "----"
   ]
  },
  {
   "cell_type": "markdown",
   "metadata": {},
   "source": [
    "### Question 3: Discrete Distribution and the Memory Recall Experiment"
   ]
  },
  {
   "cell_type": "markdown",
   "metadata": {},
   "source": [
    "- In the memory recall sample, sample the correct number of responses for r = [1.  , 0.81, 0.7 , 0.47, 0.35, 0.21], where $r$ is the probability of responding correctly to a question. Assume 90 questions total. For sampling with the binomial distribution, you can use the Python function `np.random.binomial`. For example:"
   ]
  },
  {
   "cell_type": "code",
   "execution_count": 3,
   "metadata": {},
   "outputs": [
    {
     "name": "stdout",
     "output_type": "stream",
     "text": [
      "[90]\n"
     ]
    }
   ],
   "source": [
    "N = 90\n",
    "r = 1\n",
    "y = np.random.binomial(N,r,1)\n",
    "print(y)"
   ]
  },
  {
   "cell_type": "markdown",
   "metadata": {},
   "source": [
    "- Assuming r=.95. What is the probability that all answers are correct? The function `scipy.stats.binom.pmf(k,N,r)` computes the binomial probability mass function, i.e. $n\\choose k$ $p^k (1-p)^{n-k}$"
   ]
  },
  {
   "cell_type": "code",
   "execution_count": null,
   "metadata": {},
   "outputs": [],
   "source": [
    "#Your answer here"
   ]
  },
  {
   "cell_type": "markdown",
   "metadata": {},
   "source": [
    "- Compute 100 samples from this distribution (note that this is like completing a 90 question exam 100 times). Calculate the sample mean and the sample variance over these 100 samples. "
   ]
  },
  {
   "cell_type": "code",
   "execution_count": null,
   "metadata": {},
   "outputs": [],
   "source": [
    "#Your answer here"
   ]
  },
  {
   "cell_type": "markdown",
   "metadata": {},
   "source": [
    "- Calculate or search online for the expectation and variance of the Binomial distribution. Do the sample means and variances match the expectations? Why?"
   ]
  },
  {
   "cell_type": "markdown",
   "metadata": {},
   "source": [
    "Your answer here"
   ]
  },
  {
   "cell_type": "markdown",
   "metadata": {},
   "source": [
    "- Write the log-likelihood function for these 100 samples"
   ]
  },
  {
   "cell_type": "code",
   "execution_count": 4,
   "metadata": {},
   "outputs": [],
   "source": [
    "def log_likelihood_recall(r, samples):\n",
    "    return #Your code here"
   ]
  },
  {
   "cell_type": "markdown",
   "metadata": {},
   "source": [
    "Plot it for $.8<r<1.0$ with the following code (no changes necessary to see the plot). Explain the resulting curve (label the axes, comment on the maxima if any etc.)"
   ]
  },
  {
   "cell_type": "code",
   "execution_count": null,
   "metadata": {},
   "outputs": [],
   "source": [
    "#No changes necessary in this cell\n",
    "ll = []\n",
    "range_r = np.arange(.8,1.0,.01)\n",
    "for r in range_r:\n",
    "    ll.append(log_likelihood_recall(r, y))\n",
    "    \n",
    "plt.plot(range_r, ll);"
   ]
  },
  {
   "cell_type": "markdown",
   "metadata": {},
   "source": [
    "Your answer and code here"
   ]
  },
  {
   "cell_type": "markdown",
   "metadata": {},
   "source": [
    "----"
   ]
  },
  {
   "cell_type": "markdown",
   "metadata": {},
   "source": [
    "### Question 4: Continuous Distribution"
   ]
  },
  {
   "cell_type": "markdown",
   "metadata": {},
   "source": [
    "Recall the BOLD fMRI experiment\n",
    "$$\n",
    "\\begin{split}\n",
    "y_i &= \\alpha + x_i \\beta + \\epsilon_i\\\\\n",
    "\\epsilon_i &\\sim N(0,.2)\n",
    "\\end{split}\n",
    "$$"
   ]
  },
  {
   "cell_type": "markdown",
   "metadata": {},
   "source": [
    "- Assuming parameters $\\beta=.97$ and $\\alpha=.43$, create 10 random samples of $y$ for each of $x$ in `[-1,-.65,-.5,-.1,0,.2,.5,.8]`. Use the function `np.random.normal` to generate the random samples $\\epsilon$."
   ]
  },
  {
   "cell_type": "code",
   "execution_count": 6,
   "metadata": {},
   "outputs": [
    {
     "data": {
      "text/plain": [
       "array([ 0.04275768,  0.03228603, -0.06738994,  0.02678054, -0.16449689,\n",
       "        0.15470089,  0.10669744,  0.04942789, -0.05175992,  0.01593114])"
      ]
     },
     "execution_count": 6,
     "metadata": {},
     "output_type": "execute_result"
    }
   ],
   "source": [
    "N = 10\n",
    "mu = 0\n",
    "sigma = .1\n",
    "np.random.normal(mu, sigma, size=N)"
   ]
  },
  {
   "cell_type": "markdown",
   "metadata": {},
   "source": [
    "- Plot the resulting points"
   ]
  },
  {
   "cell_type": "code",
   "execution_count": 1,
   "metadata": {},
   "outputs": [],
   "source": [
    "#Your code here"
   ]
  },
  {
   "cell_type": "markdown",
   "metadata": {},
   "source": [
    "- What is the distribution for $y$, including its parameters $\\mu$ and $\\sigma$? Note that the distribution for $y$ is ***not*** $N(0,.2)$\n",
    "- For x=.65, what is the probability that y lies between .96 and 1.16. You can use the function `scipy.stats.norm.cdf`. For example:"
   ]
  },
  {
   "cell_type": "code",
   "execution_count": 7,
   "metadata": {},
   "outputs": [
    {
     "data": {
      "text/plain": [
       "0.9986501019683699"
      ]
     },
     "execution_count": 7,
     "metadata": {},
     "output_type": "execute_result"
    }
   ],
   "source": [
    "mu = 0\n",
    "sigma = .1\n",
    "scipy.stats.norm.cdf(.3,mu,sigma)"
   ]
  },
  {
   "cell_type": "code",
   "execution_count": null,
   "metadata": {},
   "outputs": [],
   "source": [
    "#Your code here"
   ]
  },
  {
   "cell_type": "markdown",
   "metadata": {},
   "source": [
    "----"
   ]
  }
 ],
 "metadata": {
  "kernelspec": {
   "display_name": "Python 3",
   "language": "python",
   "name": "python3"
  },
  "language_info": {
   "codemirror_mode": {
    "name": "ipython",
    "version": 3
   },
   "file_extension": ".py",
   "mimetype": "text/x-python",
   "name": "python",
   "nbconvert_exporter": "python",
   "pygments_lexer": "ipython3",
   "version": "3.7.2"
  }
 },
 "nbformat": 4,
 "nbformat_minor": 2
}
